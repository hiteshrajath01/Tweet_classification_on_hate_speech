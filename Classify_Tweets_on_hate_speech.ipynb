{
  "nbformat": 4,
  "nbformat_minor": 0,
  "metadata": {
    "colab": {
      "provenance": [],
      "toc_visible": true
    },
    "kernelspec": {
      "name": "python3",
      "display_name": "Python 3"
    },
    "language_info": {
      "name": "python"
    }
  },
  "cells": [
    {
      "cell_type": "markdown",
      "source": [
        "#Student ID: 2202100\n",
        "\n"
      ],
      "metadata": {
        "id": "jVJLdR1nLOzQ"
      }
    },
    {
      "cell_type": "markdown",
      "source": [
        "####Install package"
      ],
      "metadata": {
        "id": "0SlVr0PSLd6Q"
      }
    },
    {
      "cell_type": "code",
      "execution_count": 1,
      "metadata": {
        "id": "KGe7ZXG7LzIi",
        "colab": {
          "base_uri": "https://localhost:8080/"
        },
        "outputId": "5bbb3e93-b044-4867-cab7-f1335c166a27"
      },
      "outputs": [
        {
          "output_type": "stream",
          "name": "stdout",
          "text": [
            "Looking in indexes: https://pypi.org/simple, https://us-python.pkg.dev/colab-wheels/public/simple/\n",
            "Collecting contractions\n",
            "  Downloading contractions-0.1.73-py2.py3-none-any.whl (8.7 kB)\n",
            "Collecting textsearch>=0.0.21\n",
            "  Downloading textsearch-0.0.24-py2.py3-none-any.whl (7.6 kB)\n",
            "Collecting anyascii\n",
            "  Downloading anyascii-0.3.2-py3-none-any.whl (289 kB)\n",
            "\u001b[2K     \u001b[90m━━━━━━━━━━━━━━━━━━━━━━━━━━━━━━━━━━━━━━━\u001b[0m \u001b[32m289.9/289.9 kB\u001b[0m \u001b[31m8.5 MB/s\u001b[0m eta \u001b[36m0:00:00\u001b[0m\n",
            "\u001b[?25hCollecting pyahocorasick\n",
            "  Downloading pyahocorasick-2.0.0-cp39-cp39-manylinux_2_5_x86_64.manylinux1_x86_64.whl (103 kB)\n",
            "\u001b[2K     \u001b[90m━━━━━━━━━━━━━━━━━━━━━━━━━━━━━━━━━━━━━━━\u001b[0m \u001b[32m103.2/103.2 kB\u001b[0m \u001b[31m7.8 MB/s\u001b[0m eta \u001b[36m0:00:00\u001b[0m\n",
            "\u001b[?25hInstalling collected packages: pyahocorasick, anyascii, textsearch, contractions\n",
            "Successfully installed anyascii-0.3.2 contractions-0.1.73 pyahocorasick-2.0.0 textsearch-0.0.24\n"
          ]
        }
      ],
      "source": [
        "#!pip install contractions\n"
      ]
    },
    {
      "cell_type": "markdown",
      "source": [
        "####Import libraries"
      ],
      "metadata": {
        "id": "0hb7eX4pAcCg"
      }
    },
    {
      "cell_type": "code",
      "source": [
        "import numpy as np\n",
        "import os\n",
        "import pandas as pd\n",
        "import matplotlib.pyplot as plt\n",
        "import seaborn as sns\n",
        "from collections import Counter\n",
        "from sklearn.model_selection import train_test_split\n",
        "import contractions\n",
        "import re\n",
        "import nltk\n",
        "nltk.download('punkt')\n",
        "nltk.download('stopwords')\n",
        "nltk.download('averaged_perceptron_tagger')\n",
        "nltk.download('wordnet')\n",
        "from nltk.tokenize import word_tokenize\n",
        "from nltk.corpus import wordnet\n",
        "from nltk.corpus import stopwords\n",
        "from nltk.stem import WordNetLemmatizer\n",
        "from keras.preprocessing.text import Tokenizer\n",
        "from sklearn.feature_extraction.text import TfidfVectorizer\n",
        "from tensorflow.keras.preprocessing.text import one_hot\n",
        "from keras.preprocessing import sequence\n",
        "from keras.models import Sequential\n",
        "from keras.layers import Embedding, Bidirectional, LSTM, Dropout, Dense\n",
        "import pickle\n",
        "from sklearn.metrics import confusion_matrix, accuracy_score, recall_score, precision_score, f1_score\n",
        "from tensorflow.keras.preprocessing.sequence import pad_sequences\n",
        "from keras.optimizers import Adam\n",
        "from tensorflow.keras.optimizers import RMSprop\n",
        "from tensorflow.keras.layers import Embedding, Conv1D, MaxPooling1D, Dropout, Flatten, Dense"
      ],
      "metadata": {
        "colab": {
          "base_uri": "https://localhost:8080/"
        },
        "id": "gbNG9VzxL_aN",
        "outputId": "91404b98-745c-41eb-f7cb-c30bf420c77d"
      },
      "execution_count": 2,
      "outputs": [
        {
          "output_type": "stream",
          "name": "stderr",
          "text": [
            "[nltk_data] Downloading package punkt to /root/nltk_data...\n",
            "[nltk_data]   Unzipping tokenizers/punkt.zip.\n",
            "[nltk_data] Downloading package stopwords to /root/nltk_data...\n",
            "[nltk_data]   Unzipping corpora/stopwords.zip.\n",
            "[nltk_data] Downloading package averaged_perceptron_tagger to\n",
            "[nltk_data]     /root/nltk_data...\n",
            "[nltk_data]   Unzipping taggers/averaged_perceptron_tagger.zip.\n",
            "[nltk_data] Downloading package wordnet to /root/nltk_data...\n"
          ]
        }
      ]
    },
    {
      "cell_type": "markdown",
      "source": [
        "####Set same seeds for all libraries"
      ],
      "metadata": {
        "id": "n6MrfrxfMJBs"
      }
    },
    {
      "cell_type": "code",
      "source": [
        "student_id = 2202100\n",
        "np.random.seed(student_id)"
      ],
      "metadata": {
        "id": "F_kJB5Y3MGQ8"
      },
      "execution_count": 3,
      "outputs": []
    },
    {
      "cell_type": "markdown",
      "source": [
        "#Common Codes"
      ],
      "metadata": {
        "id": "x56hEE83MSqE"
      }
    },
    {
      "cell_type": "markdown",
      "source": [
        "####Mount Google Drive"
      ],
      "metadata": {
        "id": "4Gy2kIepMW59"
      }
    },
    {
      "cell_type": "code",
      "source": [
        "from google.colab import drive\n",
        "drive.mount('/content/gdrive', force_remount=True)"
      ],
      "metadata": {
        "colab": {
          "base_uri": "https://localhost:8080/"
        },
        "id": "Ysj2TxL_MIJ0",
        "outputId": "00a031a8-62a6-4d5f-9b1e-292807d9746c"
      },
      "execution_count": 4,
      "outputs": [
        {
          "output_type": "stream",
          "name": "stdout",
          "text": [
            "Mounted at /content/gdrive\n"
          ]
        }
      ]
    },
    {
      "cell_type": "markdown",
      "source": [
        "####Set Google Drive path"
      ],
      "metadata": {
        "id": "k-m6AyfKMrlO"
      }
    },
    {
      "cell_type": "code",
      "source": [
        "GOOGLE_DRIVE_PATH_AFTER_MYDRIVE = os.path.join('./CE807/Assignment2/',str(student_id)) \n",
        "GOOGLE_DRIVE_PATH = os.path.join('gdrive', 'MyDrive', GOOGLE_DRIVE_PATH_AFTER_MYDRIVE)\n",
        "print('List files: ', os.listdir(GOOGLE_DRIVE_PATH))"
      ],
      "metadata": {
        "colab": {
          "base_uri": "https://localhost:8080/"
        },
        "id": "flIzepCcMfBe",
        "outputId": "7062f897-fed9-4ac4-8457-45deae5053a3"
      },
      "execution_count": 5,
      "outputs": [
        {
          "output_type": "stream",
          "name": "stdout",
          "text": [
            "List files:  ['test.csv', 'train.csv', 'models', 'valid.csv', 'train_25.csv', 'train_50.csv', 'train_100.csv', 'train_75.csv']\n"
          ]
        }
      ]
    },
    {
      "cell_type": "markdown",
      "source": [
        "####Set variables for respective file paths"
      ],
      "metadata": {
        "id": "tJ9hPdKeMvLl"
      }
    },
    {
      "cell_type": "code",
      "source": [
        "# Add your code to initialize GDrive and data and models paths\n",
        "\n",
        "# TODO: Fill in the Google Drive path where you uploaded the assignment, data and code\n",
        "# Example: If your student_id is 1234567 then your directory will be './CE807/Assignment2/1234567/' \n",
        "\n",
        "train_file = os.path.join(GOOGLE_DRIVE_PATH, 'train.csv')\n",
        "print('Train file: ', train_file)\n",
        "\n",
        "test_file = os.path.join(GOOGLE_DRIVE_PATH, 'test.csv')\n",
        "print('Test file: ', test_file)\n",
        "\n",
        "valid_file = os.path.join(GOOGLE_DRIVE_PATH, 'valid.csv')\n",
        "print('Valid file: ', valid_file)\n",
        "\n",
        "MODEL_1_DIRECTORY = os.path.join(GOOGLE_DRIVE_PATH, 'models', '1') # Model 1 directory\n",
        "print('Model 1 directory: ', MODEL_1_DIRECTORY)\n",
        "\n",
        "MODEL_1_25_DIRECTORY = os.path.join(MODEL_1_DIRECTORY,'25') # Model 1 trained using 25% of train data directory\n",
        "print('Model 1 directory with 25% data: ', MODEL_1_25_DIRECTORY)\n",
        "\n",
        "model_1_25_output_test_file = os.path.join(MODEL_1_25_DIRECTORY, 'output_test.csv') # Output file using Model 1 trained using 25% of train data \n",
        "print('Output file name using model 1 using 25% of train data: ',model_1_25_output_test_file)\n",
        "\n",
        "MODEL_1_50_DIRECTORY = os.path.join(MODEL_1_DIRECTORY,'50') # Model 1 trained using 50% of train data directory\n",
        "print('Model 1 directory with 50% data: ', MODEL_1_50_DIRECTORY)\n",
        "\n",
        "model_1_50_output_test_file = os.path.join(MODEL_1_50_DIRECTORY, 'output_test.csv') # Output file using Model 1 trained using 50% of train data \n",
        "print('Output file name using model 1 using 50% of train data: ',model_1_50_output_test_file)\n",
        "\n",
        "MODEL_1_75_DIRECTORY = os.path.join(MODEL_1_DIRECTORY,'75') # Model 1 trained using 75% of train data directory\n",
        "print('Model 1 directory with 75% data: ', MODEL_1_75_DIRECTORY)\n",
        "\n",
        "model_1_75_output_test_file = os.path.join(MODEL_1_75_DIRECTORY, 'output_test.csv') # Output file using Model 1 trained using 75% of train data \n",
        "print('Output file name using model 1 using 75% of train data: ',model_1_75_output_test_file)\n",
        "\n",
        "MODEL_1_100_DIRECTORY = os.path.join(MODEL_1_DIRECTORY,'100') # Model 1 trained using 100% of train data directory\n",
        "print('Model 1 directory with 100% data: ', MODEL_1_100_DIRECTORY)\n",
        "\n",
        "model_1_100_output_test_file = os.path.join(MODEL_1_100_DIRECTORY, 'output_test.csv') # Output file using Model 1 trained using 100% of train data \n",
        "print('Output file name using model 1 using 100% of train data: ',model_1_100_output_test_file)\n",
        "\n",
        "\n",
        "MODEL_2_DIRECTORY = os.path.join(GOOGLE_DRIVE_PATH, 'models', '2') # Model 2 directory\n",
        "print('Model 2 directory: ', MODEL_2_DIRECTORY)\n",
        "\n",
        "MODEL_2_25_DIRECTORY = os.path.join(MODEL_2_DIRECTORY,'25') # Model 2 trained using 25% of train data directory\n",
        "print('Model 2 directory with 25% data: ', MODEL_2_25_DIRECTORY)\n",
        "\n",
        "model_2_25_output_test_file = os.path.join(MODEL_2_25_DIRECTORY, 'output_test.csv') # Output file using Model 2 trained using 25% of train data \n",
        "print('Output file name using model 2 using 25% of train data: ',model_2_25_output_test_file)\n",
        "\n",
        "MODEL_2_50_DIRECTORY = os.path.join(MODEL_2_DIRECTORY,'50') # Model 2 trained using 50% of train data directory\n",
        "print('Model 2 directory with 50% data: ', MODEL_2_50_DIRECTORY)\n",
        "\n",
        "model_2_50_output_test_file = os.path.join(MODEL_2_50_DIRECTORY, 'output_test.csv') # Output file using Model 2 trained using 50% of train data \n",
        "print('Output file name using model 1 using 50% of train data: ',model_1_50_output_test_file)\n",
        "\n",
        "MODEL_2_75_DIRECTORY = os.path.join(MODEL_2_DIRECTORY,'75') # Model 2 trained using 75% of train data directory\n",
        "print('Model 2 directory with 75% data: ', MODEL_2_75_DIRECTORY)\n",
        "\n",
        "model_2_75_output_test_file = os.path.join(MODEL_2_75_DIRECTORY, 'output_test.csv') # Output file using Model 2 trained using 75% of train data \n",
        "print('Output file name using model 2 using 75% of train data: ',model_2_75_output_test_file)\n",
        "\n",
        "MODEL_2_100_DIRECTORY = os.path.join(MODEL_2_DIRECTORY,'100') # Model 2 trained using 100% of train data directory\n",
        "print('Model 2 directory with 100% data: ', MODEL_2_100_DIRECTORY)\n",
        "\n",
        "model_2_100_output_test_file = os.path.join(MODEL_2_100_DIRECTORY, 'output_test.csv') # Output file using Model 2 trained using 100% of train data \n",
        "print('Output file name using model 2 using 100% of train data: ',model_2_100_output_test_file)"
      ],
      "metadata": {
        "colab": {
          "base_uri": "https://localhost:8080/"
        },
        "id": "voW_u0eCMxms",
        "outputId": "96c84ab0-8cf8-474d-9f67-cf9c21a7d998"
      },
      "execution_count": 6,
      "outputs": [
        {
          "output_type": "stream",
          "name": "stdout",
          "text": [
            "Train file:  gdrive/MyDrive/./CE807/Assignment2/2202100/train.csv\n",
            "Test file:  gdrive/MyDrive/./CE807/Assignment2/2202100/test.csv\n",
            "Valid file:  gdrive/MyDrive/./CE807/Assignment2/2202100/valid.csv\n",
            "Model 1 directory:  gdrive/MyDrive/./CE807/Assignment2/2202100/models/1\n",
            "Model 1 directory with 25% data:  gdrive/MyDrive/./CE807/Assignment2/2202100/models/1/25\n",
            "Output file name using model 1 using 25% of train data:  gdrive/MyDrive/./CE807/Assignment2/2202100/models/1/25/output_test.csv\n",
            "Model 1 directory with 50% data:  gdrive/MyDrive/./CE807/Assignment2/2202100/models/1/50\n",
            "Output file name using model 1 using 50% of train data:  gdrive/MyDrive/./CE807/Assignment2/2202100/models/1/50/output_test.csv\n",
            "Model 1 directory with 75% data:  gdrive/MyDrive/./CE807/Assignment2/2202100/models/1/75\n",
            "Output file name using model 1 using 75% of train data:  gdrive/MyDrive/./CE807/Assignment2/2202100/models/1/75/output_test.csv\n",
            "Model 1 directory with 100% data:  gdrive/MyDrive/./CE807/Assignment2/2202100/models/1/100\n",
            "Output file name using model 1 using 100% of train data:  gdrive/MyDrive/./CE807/Assignment2/2202100/models/1/100/output_test.csv\n",
            "Model 2 directory:  gdrive/MyDrive/./CE807/Assignment2/2202100/models/2\n",
            "Model 2 directory with 25% data:  gdrive/MyDrive/./CE807/Assignment2/2202100/models/2/25\n",
            "Output file name using model 2 using 25% of train data:  gdrive/MyDrive/./CE807/Assignment2/2202100/models/2/25/output_test.csv\n",
            "Model 2 directory with 50% data:  gdrive/MyDrive/./CE807/Assignment2/2202100/models/2/50\n",
            "Output file name using model 1 using 50% of train data:  gdrive/MyDrive/./CE807/Assignment2/2202100/models/1/50/output_test.csv\n",
            "Model 2 directory with 75% data:  gdrive/MyDrive/./CE807/Assignment2/2202100/models/2/75\n",
            "Output file name using model 2 using 75% of train data:  gdrive/MyDrive/./CE807/Assignment2/2202100/models/2/75/output_test.csv\n",
            "Model 2 directory with 100% data:  gdrive/MyDrive/./CE807/Assignment2/2202100/models/2/100\n",
            "Output file name using model 2 using 100% of train data:  gdrive/MyDrive/./CE807/Assignment2/2202100/models/2/100/output_test.csv\n"
          ]
        }
      ]
    },
    {
      "cell_type": "markdown",
      "source": [
        "####Read Train file"
      ],
      "metadata": {
        "id": "Mdk2UtfdM4xc"
      }
    },
    {
      "cell_type": "code",
      "source": [
        "train_df = pd.read_csv(train_file)\n",
        "train_df.head()"
      ],
      "metadata": {
        "colab": {
          "base_uri": "https://localhost:8080/",
          "height": 206
        },
        "id": "uG9XuR3qM8Ol",
        "outputId": "28df9a7c-1f09-48cd-f45d-3cba3eaa62c1"
      },
      "execution_count": 7,
      "outputs": [
        {
          "output_type": "execute_result",
          "data": {
            "text/plain": [
              "      id                                              tweet label\n",
              "0  42884  @USER I’m done with you as well. An INTENTIONA...   NOT\n",
              "1  92152  I now have over 6k followers.  Only 94k to go ...   NOT\n",
              "2  65475  @USER Tom was bought! He is more interested in...   NOT\n",
              "3  22144  @USER @USER Even her brother thinks she is a m...   OFF\n",
              "4  81048  @USER @USER @USER @USER @USER I can understand...   OFF"
            ],
            "text/html": [
              "\n",
              "  <div id=\"df-bffd3236-dbf2-42b1-a377-356f013fdb23\">\n",
              "    <div class=\"colab-df-container\">\n",
              "      <div>\n",
              "<style scoped>\n",
              "    .dataframe tbody tr th:only-of-type {\n",
              "        vertical-align: middle;\n",
              "    }\n",
              "\n",
              "    .dataframe tbody tr th {\n",
              "        vertical-align: top;\n",
              "    }\n",
              "\n",
              "    .dataframe thead th {\n",
              "        text-align: right;\n",
              "    }\n",
              "</style>\n",
              "<table border=\"1\" class=\"dataframe\">\n",
              "  <thead>\n",
              "    <tr style=\"text-align: right;\">\n",
              "      <th></th>\n",
              "      <th>id</th>\n",
              "      <th>tweet</th>\n",
              "      <th>label</th>\n",
              "    </tr>\n",
              "  </thead>\n",
              "  <tbody>\n",
              "    <tr>\n",
              "      <th>0</th>\n",
              "      <td>42884</td>\n",
              "      <td>@USER I’m done with you as well. An INTENTIONA...</td>\n",
              "      <td>NOT</td>\n",
              "    </tr>\n",
              "    <tr>\n",
              "      <th>1</th>\n",
              "      <td>92152</td>\n",
              "      <td>I now have over 6k followers.  Only 94k to go ...</td>\n",
              "      <td>NOT</td>\n",
              "    </tr>\n",
              "    <tr>\n",
              "      <th>2</th>\n",
              "      <td>65475</td>\n",
              "      <td>@USER Tom was bought! He is more interested in...</td>\n",
              "      <td>NOT</td>\n",
              "    </tr>\n",
              "    <tr>\n",
              "      <th>3</th>\n",
              "      <td>22144</td>\n",
              "      <td>@USER @USER Even her brother thinks she is a m...</td>\n",
              "      <td>OFF</td>\n",
              "    </tr>\n",
              "    <tr>\n",
              "      <th>4</th>\n",
              "      <td>81048</td>\n",
              "      <td>@USER @USER @USER @USER @USER I can understand...</td>\n",
              "      <td>OFF</td>\n",
              "    </tr>\n",
              "  </tbody>\n",
              "</table>\n",
              "</div>\n",
              "      <button class=\"colab-df-convert\" onclick=\"convertToInteractive('df-bffd3236-dbf2-42b1-a377-356f013fdb23')\"\n",
              "              title=\"Convert this dataframe to an interactive table.\"\n",
              "              style=\"display:none;\">\n",
              "        \n",
              "  <svg xmlns=\"http://www.w3.org/2000/svg\" height=\"24px\"viewBox=\"0 0 24 24\"\n",
              "       width=\"24px\">\n",
              "    <path d=\"M0 0h24v24H0V0z\" fill=\"none\"/>\n",
              "    <path d=\"M18.56 5.44l.94 2.06.94-2.06 2.06-.94-2.06-.94-.94-2.06-.94 2.06-2.06.94zm-11 1L8.5 8.5l.94-2.06 2.06-.94-2.06-.94L8.5 2.5l-.94 2.06-2.06.94zm10 10l.94 2.06.94-2.06 2.06-.94-2.06-.94-.94-2.06-.94 2.06-2.06.94z\"/><path d=\"M17.41 7.96l-1.37-1.37c-.4-.4-.92-.59-1.43-.59-.52 0-1.04.2-1.43.59L10.3 9.45l-7.72 7.72c-.78.78-.78 2.05 0 2.83L4 21.41c.39.39.9.59 1.41.59.51 0 1.02-.2 1.41-.59l7.78-7.78 2.81-2.81c.8-.78.8-2.07 0-2.86zM5.41 20L4 18.59l7.72-7.72 1.47 1.35L5.41 20z\"/>\n",
              "  </svg>\n",
              "      </button>\n",
              "      \n",
              "  <style>\n",
              "    .colab-df-container {\n",
              "      display:flex;\n",
              "      flex-wrap:wrap;\n",
              "      gap: 12px;\n",
              "    }\n",
              "\n",
              "    .colab-df-convert {\n",
              "      background-color: #E8F0FE;\n",
              "      border: none;\n",
              "      border-radius: 50%;\n",
              "      cursor: pointer;\n",
              "      display: none;\n",
              "      fill: #1967D2;\n",
              "      height: 32px;\n",
              "      padding: 0 0 0 0;\n",
              "      width: 32px;\n",
              "    }\n",
              "\n",
              "    .colab-df-convert:hover {\n",
              "      background-color: #E2EBFA;\n",
              "      box-shadow: 0px 1px 2px rgba(60, 64, 67, 0.3), 0px 1px 3px 1px rgba(60, 64, 67, 0.15);\n",
              "      fill: #174EA6;\n",
              "    }\n",
              "\n",
              "    [theme=dark] .colab-df-convert {\n",
              "      background-color: #3B4455;\n",
              "      fill: #D2E3FC;\n",
              "    }\n",
              "\n",
              "    [theme=dark] .colab-df-convert:hover {\n",
              "      background-color: #434B5C;\n",
              "      box-shadow: 0px 1px 3px 1px rgba(0, 0, 0, 0.15);\n",
              "      filter: drop-shadow(0px 1px 2px rgba(0, 0, 0, 0.3));\n",
              "      fill: #FFFFFF;\n",
              "    }\n",
              "  </style>\n",
              "\n",
              "      <script>\n",
              "        const buttonEl =\n",
              "          document.querySelector('#df-bffd3236-dbf2-42b1-a377-356f013fdb23 button.colab-df-convert');\n",
              "        buttonEl.style.display =\n",
              "          google.colab.kernel.accessAllowed ? 'block' : 'none';\n",
              "\n",
              "        async function convertToInteractive(key) {\n",
              "          const element = document.querySelector('#df-bffd3236-dbf2-42b1-a377-356f013fdb23');\n",
              "          const dataTable =\n",
              "            await google.colab.kernel.invokeFunction('convertToInteractive',\n",
              "                                                     [key], {});\n",
              "          if (!dataTable) return;\n",
              "\n",
              "          const docLinkHtml = 'Like what you see? Visit the ' +\n",
              "            '<a target=\"_blank\" href=https://colab.research.google.com/notebooks/data_table.ipynb>data table notebook</a>'\n",
              "            + ' to learn more about interactive tables.';\n",
              "          element.innerHTML = '';\n",
              "          dataTable['output_type'] = 'display_data';\n",
              "          await google.colab.output.renderOutput(dataTable, element);\n",
              "          const docLink = document.createElement('div');\n",
              "          docLink.innerHTML = docLinkHtml;\n",
              "          element.appendChild(docLink);\n",
              "        }\n",
              "      </script>\n",
              "    </div>\n",
              "  </div>\n",
              "  "
            ]
          },
          "metadata": {},
          "execution_count": 7
        }
      ]
    },
    {
      "cell_type": "markdown",
      "source": [
        "####Read Validation file"
      ],
      "metadata": {
        "id": "S7zlCQz1Neal"
      }
    },
    {
      "cell_type": "code",
      "source": [
        "valid_df = pd.read_csv(valid_file)\n",
        "valid_df.head()"
      ],
      "metadata": {
        "colab": {
          "base_uri": "https://localhost:8080/",
          "height": 206
        },
        "id": "G5uZAgMVNbdM",
        "outputId": "5cb2446d-9a88-436e-d1f8-e2b2de004448"
      },
      "execution_count": 8,
      "outputs": [
        {
          "output_type": "execute_result",
          "data": {
            "text/plain": [
              "      id                                              tweet label\n",
              "0  12476  @USER @USER @USER Trump is declassifying infor...   NOT\n",
              "1  23242  @USER Ha even with them trying to rig the syst...   NOT\n",
              "2  97885  @USER @USER @USER Man you really thought this ...   NOT\n",
              "3  43414  @USER Ms. Clinton - you are a class act. My re...   OFF\n",
              "4  81403  @USER It’s still here at 753. If someone did t...   NOT"
            ],
            "text/html": [
              "\n",
              "  <div id=\"df-64dc0984-e6a3-445e-99c2-50907af99594\">\n",
              "    <div class=\"colab-df-container\">\n",
              "      <div>\n",
              "<style scoped>\n",
              "    .dataframe tbody tr th:only-of-type {\n",
              "        vertical-align: middle;\n",
              "    }\n",
              "\n",
              "    .dataframe tbody tr th {\n",
              "        vertical-align: top;\n",
              "    }\n",
              "\n",
              "    .dataframe thead th {\n",
              "        text-align: right;\n",
              "    }\n",
              "</style>\n",
              "<table border=\"1\" class=\"dataframe\">\n",
              "  <thead>\n",
              "    <tr style=\"text-align: right;\">\n",
              "      <th></th>\n",
              "      <th>id</th>\n",
              "      <th>tweet</th>\n",
              "      <th>label</th>\n",
              "    </tr>\n",
              "  </thead>\n",
              "  <tbody>\n",
              "    <tr>\n",
              "      <th>0</th>\n",
              "      <td>12476</td>\n",
              "      <td>@USER @USER @USER Trump is declassifying infor...</td>\n",
              "      <td>NOT</td>\n",
              "    </tr>\n",
              "    <tr>\n",
              "      <th>1</th>\n",
              "      <td>23242</td>\n",
              "      <td>@USER Ha even with them trying to rig the syst...</td>\n",
              "      <td>NOT</td>\n",
              "    </tr>\n",
              "    <tr>\n",
              "      <th>2</th>\n",
              "      <td>97885</td>\n",
              "      <td>@USER @USER @USER Man you really thought this ...</td>\n",
              "      <td>NOT</td>\n",
              "    </tr>\n",
              "    <tr>\n",
              "      <th>3</th>\n",
              "      <td>43414</td>\n",
              "      <td>@USER Ms. Clinton - you are a class act. My re...</td>\n",
              "      <td>OFF</td>\n",
              "    </tr>\n",
              "    <tr>\n",
              "      <th>4</th>\n",
              "      <td>81403</td>\n",
              "      <td>@USER It’s still here at 753. If someone did t...</td>\n",
              "      <td>NOT</td>\n",
              "    </tr>\n",
              "  </tbody>\n",
              "</table>\n",
              "</div>\n",
              "      <button class=\"colab-df-convert\" onclick=\"convertToInteractive('df-64dc0984-e6a3-445e-99c2-50907af99594')\"\n",
              "              title=\"Convert this dataframe to an interactive table.\"\n",
              "              style=\"display:none;\">\n",
              "        \n",
              "  <svg xmlns=\"http://www.w3.org/2000/svg\" height=\"24px\"viewBox=\"0 0 24 24\"\n",
              "       width=\"24px\">\n",
              "    <path d=\"M0 0h24v24H0V0z\" fill=\"none\"/>\n",
              "    <path d=\"M18.56 5.44l.94 2.06.94-2.06 2.06-.94-2.06-.94-.94-2.06-.94 2.06-2.06.94zm-11 1L8.5 8.5l.94-2.06 2.06-.94-2.06-.94L8.5 2.5l-.94 2.06-2.06.94zm10 10l.94 2.06.94-2.06 2.06-.94-2.06-.94-.94-2.06-.94 2.06-2.06.94z\"/><path d=\"M17.41 7.96l-1.37-1.37c-.4-.4-.92-.59-1.43-.59-.52 0-1.04.2-1.43.59L10.3 9.45l-7.72 7.72c-.78.78-.78 2.05 0 2.83L4 21.41c.39.39.9.59 1.41.59.51 0 1.02-.2 1.41-.59l7.78-7.78 2.81-2.81c.8-.78.8-2.07 0-2.86zM5.41 20L4 18.59l7.72-7.72 1.47 1.35L5.41 20z\"/>\n",
              "  </svg>\n",
              "      </button>\n",
              "      \n",
              "  <style>\n",
              "    .colab-df-container {\n",
              "      display:flex;\n",
              "      flex-wrap:wrap;\n",
              "      gap: 12px;\n",
              "    }\n",
              "\n",
              "    .colab-df-convert {\n",
              "      background-color: #E8F0FE;\n",
              "      border: none;\n",
              "      border-radius: 50%;\n",
              "      cursor: pointer;\n",
              "      display: none;\n",
              "      fill: #1967D2;\n",
              "      height: 32px;\n",
              "      padding: 0 0 0 0;\n",
              "      width: 32px;\n",
              "    }\n",
              "\n",
              "    .colab-df-convert:hover {\n",
              "      background-color: #E2EBFA;\n",
              "      box-shadow: 0px 1px 2px rgba(60, 64, 67, 0.3), 0px 1px 3px 1px rgba(60, 64, 67, 0.15);\n",
              "      fill: #174EA6;\n",
              "    }\n",
              "\n",
              "    [theme=dark] .colab-df-convert {\n",
              "      background-color: #3B4455;\n",
              "      fill: #D2E3FC;\n",
              "    }\n",
              "\n",
              "    [theme=dark] .colab-df-convert:hover {\n",
              "      background-color: #434B5C;\n",
              "      box-shadow: 0px 1px 3px 1px rgba(0, 0, 0, 0.15);\n",
              "      filter: drop-shadow(0px 1px 2px rgba(0, 0, 0, 0.3));\n",
              "      fill: #FFFFFF;\n",
              "    }\n",
              "  </style>\n",
              "\n",
              "      <script>\n",
              "        const buttonEl =\n",
              "          document.querySelector('#df-64dc0984-e6a3-445e-99c2-50907af99594 button.colab-df-convert');\n",
              "        buttonEl.style.display =\n",
              "          google.colab.kernel.accessAllowed ? 'block' : 'none';\n",
              "\n",
              "        async function convertToInteractive(key) {\n",
              "          const element = document.querySelector('#df-64dc0984-e6a3-445e-99c2-50907af99594');\n",
              "          const dataTable =\n",
              "            await google.colab.kernel.invokeFunction('convertToInteractive',\n",
              "                                                     [key], {});\n",
              "          if (!dataTable) return;\n",
              "\n",
              "          const docLinkHtml = 'Like what you see? Visit the ' +\n",
              "            '<a target=\"_blank\" href=https://colab.research.google.com/notebooks/data_table.ipynb>data table notebook</a>'\n",
              "            + ' to learn more about interactive tables.';\n",
              "          element.innerHTML = '';\n",
              "          dataTable['output_type'] = 'display_data';\n",
              "          await google.colab.output.renderOutput(dataTable, element);\n",
              "          const docLink = document.createElement('div');\n",
              "          docLink.innerHTML = docLinkHtml;\n",
              "          element.appendChild(docLink);\n",
              "        }\n",
              "      </script>\n",
              "    </div>\n",
              "  </div>\n",
              "  "
            ]
          },
          "metadata": {},
          "execution_count": 8
        }
      ]
    },
    {
      "cell_type": "markdown",
      "source": [
        "####Read Test file"
      ],
      "metadata": {
        "id": "KIyABRUbNmn1"
      }
    },
    {
      "cell_type": "code",
      "source": [
        "test_df = pd.read_csv(test_file)\n",
        "test_df.head()"
      ],
      "metadata": {
        "colab": {
          "base_uri": "https://localhost:8080/",
          "height": 206
        },
        "id": "sbI0s9sRNiJc",
        "outputId": "fa32dbcd-b173-41e3-f6eb-6cf477c51cee"
      },
      "execution_count": 9,
      "outputs": [
        {
          "output_type": "execute_result",
          "data": {
            "text/plain": [
              "      id                                              tweet label\n",
              "0  15923  #WhoIsQ #WheresTheServer #DumpNike #DECLASFISA...   OFF\n",
              "1  27014  #ConstitutionDay is revered by Conservatives, ...   NOT\n",
              "2  30530  #FOXNews #NRA #MAGA #POTUS #TRUMP #2ndAmendmen...   NOT\n",
              "3  13876  #Watching #Boomer getting the news that she is...   NOT\n",
              "4  60133  #NoPasaran: Unity demo to oppose the far-right...   OFF"
            ],
            "text/html": [
              "\n",
              "  <div id=\"df-037d3a52-a0b8-4565-a39c-2634377b3087\">\n",
              "    <div class=\"colab-df-container\">\n",
              "      <div>\n",
              "<style scoped>\n",
              "    .dataframe tbody tr th:only-of-type {\n",
              "        vertical-align: middle;\n",
              "    }\n",
              "\n",
              "    .dataframe tbody tr th {\n",
              "        vertical-align: top;\n",
              "    }\n",
              "\n",
              "    .dataframe thead th {\n",
              "        text-align: right;\n",
              "    }\n",
              "</style>\n",
              "<table border=\"1\" class=\"dataframe\">\n",
              "  <thead>\n",
              "    <tr style=\"text-align: right;\">\n",
              "      <th></th>\n",
              "      <th>id</th>\n",
              "      <th>tweet</th>\n",
              "      <th>label</th>\n",
              "    </tr>\n",
              "  </thead>\n",
              "  <tbody>\n",
              "    <tr>\n",
              "      <th>0</th>\n",
              "      <td>15923</td>\n",
              "      <td>#WhoIsQ #WheresTheServer #DumpNike #DECLASFISA...</td>\n",
              "      <td>OFF</td>\n",
              "    </tr>\n",
              "    <tr>\n",
              "      <th>1</th>\n",
              "      <td>27014</td>\n",
              "      <td>#ConstitutionDay is revered by Conservatives, ...</td>\n",
              "      <td>NOT</td>\n",
              "    </tr>\n",
              "    <tr>\n",
              "      <th>2</th>\n",
              "      <td>30530</td>\n",
              "      <td>#FOXNews #NRA #MAGA #POTUS #TRUMP #2ndAmendmen...</td>\n",
              "      <td>NOT</td>\n",
              "    </tr>\n",
              "    <tr>\n",
              "      <th>3</th>\n",
              "      <td>13876</td>\n",
              "      <td>#Watching #Boomer getting the news that she is...</td>\n",
              "      <td>NOT</td>\n",
              "    </tr>\n",
              "    <tr>\n",
              "      <th>4</th>\n",
              "      <td>60133</td>\n",
              "      <td>#NoPasaran: Unity demo to oppose the far-right...</td>\n",
              "      <td>OFF</td>\n",
              "    </tr>\n",
              "  </tbody>\n",
              "</table>\n",
              "</div>\n",
              "      <button class=\"colab-df-convert\" onclick=\"convertToInteractive('df-037d3a52-a0b8-4565-a39c-2634377b3087')\"\n",
              "              title=\"Convert this dataframe to an interactive table.\"\n",
              "              style=\"display:none;\">\n",
              "        \n",
              "  <svg xmlns=\"http://www.w3.org/2000/svg\" height=\"24px\"viewBox=\"0 0 24 24\"\n",
              "       width=\"24px\">\n",
              "    <path d=\"M0 0h24v24H0V0z\" fill=\"none\"/>\n",
              "    <path d=\"M18.56 5.44l.94 2.06.94-2.06 2.06-.94-2.06-.94-.94-2.06-.94 2.06-2.06.94zm-11 1L8.5 8.5l.94-2.06 2.06-.94-2.06-.94L8.5 2.5l-.94 2.06-2.06.94zm10 10l.94 2.06.94-2.06 2.06-.94-2.06-.94-.94-2.06-.94 2.06-2.06.94z\"/><path d=\"M17.41 7.96l-1.37-1.37c-.4-.4-.92-.59-1.43-.59-.52 0-1.04.2-1.43.59L10.3 9.45l-7.72 7.72c-.78.78-.78 2.05 0 2.83L4 21.41c.39.39.9.59 1.41.59.51 0 1.02-.2 1.41-.59l7.78-7.78 2.81-2.81c.8-.78.8-2.07 0-2.86zM5.41 20L4 18.59l7.72-7.72 1.47 1.35L5.41 20z\"/>\n",
              "  </svg>\n",
              "      </button>\n",
              "      \n",
              "  <style>\n",
              "    .colab-df-container {\n",
              "      display:flex;\n",
              "      flex-wrap:wrap;\n",
              "      gap: 12px;\n",
              "    }\n",
              "\n",
              "    .colab-df-convert {\n",
              "      background-color: #E8F0FE;\n",
              "      border: none;\n",
              "      border-radius: 50%;\n",
              "      cursor: pointer;\n",
              "      display: none;\n",
              "      fill: #1967D2;\n",
              "      height: 32px;\n",
              "      padding: 0 0 0 0;\n",
              "      width: 32px;\n",
              "    }\n",
              "\n",
              "    .colab-df-convert:hover {\n",
              "      background-color: #E2EBFA;\n",
              "      box-shadow: 0px 1px 2px rgba(60, 64, 67, 0.3), 0px 1px 3px 1px rgba(60, 64, 67, 0.15);\n",
              "      fill: #174EA6;\n",
              "    }\n",
              "\n",
              "    [theme=dark] .colab-df-convert {\n",
              "      background-color: #3B4455;\n",
              "      fill: #D2E3FC;\n",
              "    }\n",
              "\n",
              "    [theme=dark] .colab-df-convert:hover {\n",
              "      background-color: #434B5C;\n",
              "      box-shadow: 0px 1px 3px 1px rgba(0, 0, 0, 0.15);\n",
              "      filter: drop-shadow(0px 1px 2px rgba(0, 0, 0, 0.3));\n",
              "      fill: #FFFFFF;\n",
              "    }\n",
              "  </style>\n",
              "\n",
              "      <script>\n",
              "        const buttonEl =\n",
              "          document.querySelector('#df-037d3a52-a0b8-4565-a39c-2634377b3087 button.colab-df-convert');\n",
              "        buttonEl.style.display =\n",
              "          google.colab.kernel.accessAllowed ? 'block' : 'none';\n",
              "\n",
              "        async function convertToInteractive(key) {\n",
              "          const element = document.querySelector('#df-037d3a52-a0b8-4565-a39c-2634377b3087');\n",
              "          const dataTable =\n",
              "            await google.colab.kernel.invokeFunction('convertToInteractive',\n",
              "                                                     [key], {});\n",
              "          if (!dataTable) return;\n",
              "\n",
              "          const docLinkHtml = 'Like what you see? Visit the ' +\n",
              "            '<a target=\"_blank\" href=https://colab.research.google.com/notebooks/data_table.ipynb>data table notebook</a>'\n",
              "            + ' to learn more about interactive tables.';\n",
              "          element.innerHTML = '';\n",
              "          dataTable['output_type'] = 'display_data';\n",
              "          await google.colab.output.renderOutput(dataTable, element);\n",
              "          const docLink = document.createElement('div');\n",
              "          docLink.innerHTML = docLinkHtml;\n",
              "          element.appendChild(docLink);\n",
              "        }\n",
              "      </script>\n",
              "    </div>\n",
              "  </div>\n",
              "  "
            ]
          },
          "metadata": {},
          "execution_count": 9
        }
      ]
    },
    {
      "cell_type": "code",
      "source": [
        "print('Train data count: '+str(train_df.shape[0]))\n",
        "print('Valid data count: '+str(valid_df.shape[0]))\n",
        "print('Test data count: '+str(test_df.shape[0]))"
      ],
      "metadata": {
        "colab": {
          "base_uri": "https://localhost:8080/"
        },
        "id": "GtEcZU9AbqNo",
        "outputId": "4894c773-aae7-45cc-b15a-d181a4a34e5b"
      },
      "execution_count": 10,
      "outputs": [
        {
          "output_type": "stream",
          "name": "stdout",
          "text": [
            "Train data count: 12313\n",
            "Valid data count: 927\n",
            "Test data count: 860\n"
          ]
        }
      ]
    },
    {
      "cell_type": "markdown",
      "source": [
        "##Data Visualization"
      ],
      "metadata": {
        "id": "12WWwHy3Nthe"
      }
    },
    {
      "cell_type": "markdown",
      "source": [
        "#### Function to plot graph to display distribution of tweet"
      ],
      "metadata": {
        "id": "bJiV98TbNut9"
      }
    },
    {
      "cell_type": "code",
      "source": [
        "def plot_tweet_length_distribution(df, labelname):\n",
        "    # Get tweet lengths for the given label\n",
        "    tweet_lengths = [len(tweet) for tweet in df['tweet']]\n",
        "\n",
        "    # Create a histogram plot with seaborn\n",
        "    sns.histplot(tweet_lengths, kde=True, label=labelname)\n",
        "\n",
        "    # Set plot labels and title\n",
        "    plt.xlabel('Tweet Length')\n",
        "    plt.ylabel('Count')\n",
        "    plt.title('Distribution of Tweet Lengths for '+labelname+' data')\n",
        "\n",
        "    # Show the legend\n",
        "    plt.legend()\n",
        "\n",
        "    # Show the plot\n",
        "    plt.show()"
      ],
      "metadata": {
        "id": "NSpQzCwjNrBd"
      },
      "execution_count": 11,
      "outputs": []
    },
    {
      "cell_type": "markdown",
      "source": [
        "#### Plot graph for train_df,valid_df,test_df to show distribution of tweet "
      ],
      "metadata": {
        "id": "KKDUTCOJN4Gc"
      }
    },
    {
      "cell_type": "code",
      "source": [
        "plot_tweet_length_distribution(train_df,labelname='train')\n",
        "plot_tweet_length_distribution(valid_df,labelname='valid')\n",
        "plot_tweet_length_distribution(test_df,labelname='test')"
      ],
      "metadata": {
        "colab": {
          "base_uri": "https://localhost:8080/",
          "height": 1000
        },
        "id": "T04l97thNz69",
        "outputId": "18c90bef-3e66-4c48-e1f5-eb2caa344baa"
      },
      "execution_count": 12,
      "outputs": [
        {
          "output_type": "display_data",
          "data": {
            "text/plain": [
              "<Figure size 640x480 with 1 Axes>"
            ],
            "image/png": "[encoded data removed]"
          },
          "metadata": {}
        },
        {
          "output_type": "display_data",
          "data": {
            "text/plain": [
              "<Figure size 640x480 with 1 Axes>"
            ],
            "image/png": "[encoded data removed]"
          },
          "metadata": {}
        },
        {
          "output_type": "display_data",
          "data": {
            "text/plain": [
              "<Figure size 640x480 with 1 Axes>"
            ],
            "image/png": "[encoded data removed]"
          },
          "metadata": {}
        }
      ]
    },
    {
      "cell_type": "markdown",
      "source": [
        " #### Function to convert label column values to numerical"
      ],
      "metadata": {
        "id": "_glSeBscOGCm"
      }
    },
    {
      "cell_type": "code",
      "source": [
        " # Define a mapping dictionary for label values\n",
        "def convert_label_to_binary(df):    \n",
        "  label_mapping = {'NOT': 0, 'OFF': 1}\n",
        "\n",
        "  # Apply the mapping to the label column\n",
        "  df['label'] = df['label'].map(label_mapping)\n",
        "\n",
        "\n"
      ],
      "metadata": {
        "id": "14_H_hTMN9ic"
      },
      "execution_count": 13,
      "outputs": []
    },
    {
      "cell_type": "markdown",
      "source": [
        "#### Convert label column to numerical for train_df,valid_df and test_df"
      ],
      "metadata": {
        "id": "cF4k1JzZPMJk"
      }
    },
    {
      "cell_type": "code",
      "source": [
        "convert_label_to_binary(train_df)\n",
        "convert_label_to_binary(valid_df)\n",
        "convert_label_to_binary(test_df)"
      ],
      "metadata": {
        "id": "Bk3RmHq0PKed"
      },
      "execution_count": 14,
      "outputs": []
    },
    {
      "cell_type": "markdown",
      "source": [
        "0 and 1 count in train data"
      ],
      "metadata": {
        "id": "JaLsXRMIgf_H"
      }
    },
    {
      "cell_type": "code",
      "source": [
        "train_df['label'].value_counts()"
      ],
      "metadata": {
        "colab": {
          "base_uri": "https://localhost:8080/"
        },
        "id": "S5WXpEoqgW90",
        "outputId": "ddad5936-349f-45ca-e837-7985b2caf0d9"
      },
      "execution_count": 15,
      "outputs": [
        {
          "output_type": "execute_result",
          "data": {
            "text/plain": [
              "0    8221\n",
              "1    4092\n",
              "Name: label, dtype: int64"
            ]
          },
          "metadata": {},
          "execution_count": 15
        }
      ]
    },
    {
      "cell_type": "markdown",
      "source": [
        "0 and 1 count in train data"
      ],
      "metadata": {
        "id": "Mz_I5SitgrV9"
      }
    },
    {
      "cell_type": "code",
      "source": [
        "valid_df['label'].value_counts()"
      ],
      "metadata": {
        "colab": {
          "base_uri": "https://localhost:8080/"
        },
        "id": "J7Egq8bugjy9",
        "outputId": "f0a30ff3-db8c-485b-fe95-8307d0a6b6de"
      },
      "execution_count": 16,
      "outputs": [
        {
          "output_type": "execute_result",
          "data": {
            "text/plain": [
              "0    619\n",
              "1    308\n",
              "Name: label, dtype: int64"
            ]
          },
          "metadata": {},
          "execution_count": 16
        }
      ]
    },
    {
      "cell_type": "markdown",
      "source": [
        "####0 and 1 count in test set"
      ],
      "metadata": {
        "id": "z_X_qgy6crB5"
      }
    },
    {
      "cell_type": "code",
      "source": [
        "test_df['label'].value_counts()"
      ],
      "metadata": {
        "colab": {
          "base_uri": "https://localhost:8080/"
        },
        "id": "8Rzj-JGscq0C",
        "outputId": "c34aba74-5edb-4e3f-ed4e-fc5eba35ba84"
      },
      "execution_count": 17,
      "outputs": [
        {
          "output_type": "execute_result",
          "data": {
            "text/plain": [
              "0    620\n",
              "1    240\n",
              "Name: label, dtype: int64"
            ]
          },
          "metadata": {},
          "execution_count": 17
        }
      ]
    },
    {
      "cell_type": "markdown",
      "source": [
        "#### Function to plot graph to show label counts"
      ],
      "metadata": {
        "id": "o73u43nMes3B"
      }
    },
    {
      "cell_type": "code",
      "source": [
        "def plot_label_count(df,titlename):\n",
        "    # Create a countplot with hue\n",
        "    sns.countplot(data=df, x='label', hue='label')\n",
        "\n",
        "    # Set plot labels and title\n",
        "    plt.xlabel('Label')\n",
        "    plt.ylabel('Count')\n",
        "    plt.title('Label Count for '+titlename)\n",
        "\n",
        "    # Show the plot\n",
        "    plt.show()"
      ],
      "metadata": {
        "id": "9vzPWlOQPGk9"
      },
      "execution_count": 18,
      "outputs": []
    },
    {
      "cell_type": "markdown",
      "source": [
        "#### Plot bar graph to show label counts"
      ],
      "metadata": {
        "id": "Q1rUnHvmPXMu"
      }
    },
    {
      "cell_type": "code",
      "source": [
        "plot_label_count(train_df,titlename='train')\n",
        "plot_label_count(valid_df,titlename='valid')\n",
        "plot_label_count(test_df,titlename='test')"
      ],
      "metadata": {
        "colab": {
          "base_uri": "https://localhost:8080/",
          "height": 1000
        },
        "id": "eO2ucP_SPVC9",
        "outputId": "9c0e4da8-f836-4c8b-b276-525d6f3df08d"
      },
      "execution_count": 19,
      "outputs": [
        {
          "output_type": "display_data",
          "data": {
            "text/plain": [
              "<Figure size 640x480 with 1 Axes>"
            ],
            "image/png": "[encoded data removed]"
          },
          "metadata": {}
        },
        {
          "output_type": "display_data",
          "data": {
            "text/plain": [
              "<Figure size 640x480 with 1 Axes>"
            ],
            "image/png": "[encoded data removed]"
          },
          "metadata": {}
        },
        {
          "output_type": "display_data",
          "data": {
            "text/plain": [
              "<Figure size 640x480 with 1 Axes>"
            ],
            "image/png": "[encoded data removed]"
          },
          "metadata": {}
        }
      ]
    },
    {
      "cell_type": "markdown",
      "source": [
        "####Plot to show most frequently used words"
      ],
      "metadata": {
        "id": "WYghHthYPncU"
      }
    },
    {
      "cell_type": "code",
      "source": [
        "def plot_most_frequent_words(df,n,dfname):\n",
        "    # Get the n most frequent words and their counts from the specified column\n",
        "    words_counts = Counter(df['tweet'].str.split().sum()).most_common(n)\n",
        "    words, counts = zip(*words_counts)\n",
        "\n",
        "    # Calculate the size of the plot based on the number of bars\n",
        "    fig_width = 0.5 * len(words)\n",
        "    fig_height = max(6, 0.8 * len(words))\n",
        "\n",
        "    # Create a bar chart\n",
        "    fig, ax = plt.subplots(figsize=(fig_width, fig_height))\n",
        "    ax.bar(words, counts, width=0.8)\n",
        "\n",
        "    # Add annotations to the bars\n",
        "    for i, count in enumerate(counts):\n",
        "        ax.annotate(count, xy=(words[i], count), ha='center', va='bottom', fontsize=8)\n",
        "\n",
        "    ax.set(title=f'({n} words) Most Frequent Words for {dfname} ', xlabel='Words', ylabel='Most frequent word count')\n",
        "    ax.tick_params(axis='x', labelsize=8, rotation=45)\n",
        "\n",
        "    # Display the plot\n",
        "    plt.show()"
      ],
      "metadata": {
        "id": "F8mTR8t0PlHt"
      },
      "execution_count": 20,
      "outputs": []
    },
    {
      "cell_type": "markdown",
      "source": [
        "####Call function to display most frequently used words "
      ],
      "metadata": {
        "id": "bQ99mtFuPuPc"
      }
    },
    {
      "cell_type": "code",
      "source": [
        "plot_most_frequent_words(train_df,25,dfname='train set')\n",
        "plot_most_frequent_words(valid_df,25,dfname='valid set')\n",
        "plot_most_frequent_words(test_df,25,dfname='test set')"
      ],
      "metadata": {
        "colab": {
          "base_uri": "https://localhost:8080/",
          "height": 1000
        },
        "id": "-weZ61WzP2Fs",
        "outputId": "90bedf38-8380-47f6-eeaf-e91c67019c1c"
      },
      "execution_count": 21,
      "outputs": [
        {
          "output_type": "display_data",
          "data": {
            "text/plain": [
              "<Figure size 1250x2000 with 1 Axes>"
            ],
            "image/png": "[encoded data removed]"
          },
          "metadata": {}
        },
        {
          "output_type": "display_data",
          "data": {
            "text/plain": [
              "<Figure size 1250x2000 with 1 Axes>"
            ],
            "image/png": "[encoded data removed]"
          },
          "metadata": {}
        },
        {
          "output_type": "display_data",
          "data": {
            "text/plain": [
              "<Figure size 1250x2000 with 1 Axes>"
            ],
            "image/png": "[encoded data removed]"
          },
          "metadata": {}
        }
      ]
    },
    {
      "cell_type": "markdown",
      "source": [
        "#### Function to split data each having 25% data of original dataset"
      ],
      "metadata": {
        "id": "WaWf1CqxP7md"
      }
    },
    {
      "cell_type": "code",
      "source": [
        "def split_data(df,seed_val):\n",
        "  X1, X2 = train_test_split(df, test_size=0.5, random_state=seed_val, stratify=df['label'])\n",
        "  X1_25, X2_25 = train_test_split(X1, test_size=0.5, random_state=seed_val, stratify=X1['label'])\n",
        "  X3_25, X4_25 = train_test_split(X2, test_size=0.5, random_state=seed_val, stratify=X2['label']) \n",
        "  return X1_25, X2_25,X3_25,X4_25"
      ],
      "metadata": {
        "id": "DNR7MvTEP3-U"
      },
      "execution_count": 22,
      "outputs": []
    },
    {
      "cell_type": "markdown",
      "source": [
        "####Set the split data to 4 variables"
      ],
      "metadata": {
        "id": "-ngrZrNZQPEO"
      }
    },
    {
      "cell_type": "code",
      "source": [
        "X1_25,X2_25,X3_25,X4_25=split_data(train_df,student_id)\n",
        "# Check the number of samples in X1_25 and X2_25\n",
        "print('Count of rows in 1st part: '+str(X1_25.shape[0]))\n",
        "print('Count of rows in 2nd part: '+str(X2_25.shape[0]))\n",
        "print('Count of rows in 3rd part: '+str(X3_25.shape[0])) \n",
        "print('Count of rows in 4th part: '+str(X4_25.shape[0]))"
      ],
      "metadata": {
        "colab": {
          "base_uri": "https://localhost:8080/"
        },
        "id": "WePBGHzSQKbu",
        "outputId": "5bbd7a99-38e5-48a7-d57b-1ade0527ad6f"
      },
      "execution_count": 23,
      "outputs": [
        {
          "output_type": "stream",
          "name": "stdout",
          "text": [
            "Count of rows in 1st part: 3078\n",
            "Count of rows in 2nd part: 3078\n",
            "Count of rows in 3rd part: 3078\n",
            "Count of rows in 4th part: 3079\n"
          ]
        }
      ]
    },
    {
      "cell_type": "markdown",
      "source": [
        "####Write data to CSV files and save in Google drive"
      ],
      "metadata": {
        "id": "LWslWtWRQWC_"
      }
    },
    {
      "cell_type": "code",
      "source": [
        "train_25_path=GOOGLE_DRIVE_PATH+'/train_25.csv'#Set 25% data file path\n",
        "X1_25.to_csv(train_25_path, index=False)#Write 25% data to csv\n",
        "\n",
        "train_50_path=GOOGLE_DRIVE_PATH+'/train_50.csv'#Set 50% data file path\n",
        "X_50 = pd.concat([X1_25, X2_25], axis=0)# Concatenate X1_25 and X2_25 \n",
        "X_50.to_csv(train_50_path, index=False)#Write 50% data to csv\n",
        "\n",
        "train_75_path=GOOGLE_DRIVE_PATH+'/train_75.csv'#Set 75% data file path\n",
        "X_75 = pd.concat([X_50, X3_25], axis=0)# Concatenate X_50 and X3_25 \n",
        "X_75.to_csv(train_75_path, index=False)#Write 75% data to csv\n",
        "\n",
        "train_100_path=GOOGLE_DRIVE_PATH+'/train_100.csv'#Set 100% data file path\n",
        "X_100 = pd.concat([X_75, X4_25], axis=0)# Concatenate X_75 and X4_25\n",
        "X_100.to_csv(train_100_path, index=False)#Write 100% data to csv"
      ],
      "metadata": {
        "id": "jJefji8IP37c"
      },
      "execution_count": 24,
      "outputs": []
    },
    {
      "cell_type": "markdown",
      "source": [
        "####Data Cleaning and preprocessing"
      ],
      "metadata": {
        "id": "YYm5-QXIQeEV"
      }
    },
    {
      "cell_type": "code",
      "source": [
        "#Function to preprocess data\n",
        "def clean_text(text):\n",
        "  # Expand contractions\n",
        "  text = contractions.fix(text)\n",
        "\n",
        "  # Remove special characters and digits\n",
        "  text = re.sub('[^A-Za-z]+', ' ', text)\n",
        "\n",
        "  # Convert text to lowercase\n",
        "  text = text.lower()\n",
        "\n",
        "  # Remove stop words\n",
        "  stopwords = set(nltk.corpus.stopwords.words('english'))\n",
        "  words = [word for word in text.split() if word not in stopwords]\n",
        "  text = ' '.join(words)\n",
        "\n",
        "   # Lemmatize words\n",
        "  lemmatizer = nltk.WordNetLemmatizer()\n",
        "  words = [lemmatizer.lemmatize(word) for word in text.split()]\n",
        "  text = ' '.join(words)\n",
        "  \n",
        "  return text"
      ],
      "metadata": {
        "id": "Oouy-WjbP34c"
      },
      "execution_count": 25,
      "outputs": []
    },
    {
      "cell_type": "markdown",
      "source": [
        "####Encode and pad"
      ],
      "metadata": {
        "id": "VvNVS2o6VX8z"
      }
    },
    {
      "cell_type": "code",
      "source": [
        "def encode_and_pad(dataset, max_length, vocabulary_size):\n",
        "    # Encode each sentence in the corpus using one_hot\n",
        "    onehot_repr = [one_hot(words, vocabulary_size) for words in dataset]\n",
        "    \n",
        "    # Pad each encoded sentence with 0s to ensure uniform length\n",
        "    embedded_docs = pad_sequences(onehot_repr, padding='pre', maxlen=max_length)\n",
        "    \n",
        "    # Convert the embedded docs to a numpy array and return it\n",
        "    return np.array(embedded_docs)"
      ],
      "metadata": {
        "id": "lKkkA3R3VXZs"
      },
      "execution_count": 26,
      "outputs": []
    },
    {
      "cell_type": "markdown",
      "source": [
        "####Prepare dataset"
      ],
      "metadata": {
        "id": "p5m9zTxPTexI"
      }
    },
    {
      "cell_type": "code",
      "source": [
        "def prepare_dataset(data, Tfidf_vectorizer=None, split='test'):\n",
        "  if split == 'train':\n",
        "    data['tweet'] = data['tweet'].map(lambda t: clean_text(t))\n",
        "    tweet_list = data[\"tweet\"].tolist()\n",
        "    Tfidf_vectorizer = TfidfVectorizer()\n",
        "    vec_values = Tfidf_vectorizer.fit_transform(tweet_list).toarray()\n",
        "    values = encode_and_pad(tweet_list, max_length=100, vocabulary_size=5000)  \n",
        "  else:\n",
        "    data['tweet'] = data['tweet'].map(lambda t: clean_text(t))\n",
        "    tweet_list = data[\"tweet\"].tolist()\n",
        "    vec_values = Tfidf_vectorizer.transform(tweet_list).toarray()\n",
        "    values = encode_and_pad(tweet_list, max_length=100, vocabulary_size=5000)    \n",
        "    \n",
        "  if split == 'train':\n",
        "      return values, Tfidf_vectorizer\n",
        "  else:\n",
        "      return values"
      ],
      "metadata": {
        "id": "ofQ3sM6BP31U"
      },
      "execution_count": 27,
      "outputs": []
    },
    {
      "cell_type": "markdown",
      "source": [
        "####Compute Performance"
      ],
      "metadata": {
        "id": "0OLLebsRTpwZ"
      }
    },
    {
      "cell_type": "code",
      "source": [
        "def compute_performance(y_true, y_pred, split='test'):\n",
        "    print('Computing different performance metrics on', split, 'set of Dataset')\n",
        "    f1score = f1_score(y_true, y_pred, average='macro')\n",
        "    acc = accuracy_score(y_true, y_pred)\n",
        "    cm = confusion_matrix(y_true, y_pred)\n",
        "\n",
        "    print('F1 Score(macro): ', f1score)\n",
        "    print('Accuracy: ', acc)\n",
        "    print('Confusion Matrix:')\n",
        "    print(cm)\n",
        "    \n",
        "    return f1score"
      ],
      "metadata": {
        "id": "-RctcVYGP3yc"
      },
      "execution_count": 28,
      "outputs": []
    },
    {
      "cell_type": "markdown",
      "source": [
        "# Method 1 Start"
      ],
      "metadata": {
        "id": "4M3SX5W5T-Nn"
      }
    },
    {
      "cell_type": "markdown",
      "source": [
        "####Train model 1"
      ],
      "metadata": {
        "id": "_IfnouIiUCTX"
      }
    },
    {
      "cell_type": "code",
      "source": [
        "def train_model1(text_vector, label, val_values, val_label):\n",
        "  vector_features = 40\n",
        "  vocabulary_size = 5000\n",
        "  max_length = 100\n",
        "  model1=Sequential()\n",
        "  model1.add(Embedding(vocabulary_size,vector_features,input_length=max_length))\n",
        "  model1.add(Bidirectional(LSTM(100)))\n",
        "  model1.add(Dropout(0.5))\n",
        "  model1.add(Dense(1,activation='sigmoid'))\n",
        "  optimizer = Adam('learning_rate=0.005')\n",
        "  model1.compile(loss='binary_crossentropy',optimizer='adam',metrics=['accuracy'])\n",
        "  print(model1.summary())\n",
        "\n",
        "  model1.fit(text_vector,label,validation_data=(val_values,val_label),epochs=10,batch_size=64)\n",
        "\n",
        "  return model1"
      ],
      "metadata": {
        "id": "hcww9kSbg6Rw"
      },
      "execution_count": 29,
      "outputs": []
    },
    {
      "cell_type": "markdown",
      "source": [
        "####Save model"
      ],
      "metadata": {
        "id": "cyQ9fbl_UNJq"
      }
    },
    {
      "cell_type": "code",
      "source": [
        "def save_model(model, vectorizer, model_dir):\n",
        "    # save the model to disk\n",
        "    model_file = os.path.join(model_dir, 'model.sav')\n",
        "    pickle.dump(model, open(model_file, 'wb'))\n",
        "    print('Saved model to ', model_file)\n",
        "\n",
        "    vectorizer_file = os.path.join(model_dir, 'vectorizer.sav') \n",
        "    pickle.dump(vectorizer, open(vectorizer_file, 'wb'))\n",
        "    print('Saved Vectorizer to ', vectorizer_file)\n",
        "\n",
        "    return model_file, vectorizer_file"
      ],
      "metadata": {
        "id": "6SkK8UgvP3rV"
      },
      "execution_count": 30,
      "outputs": []
    },
    {
      "cell_type": "markdown",
      "source": [
        "####Load model\n",
        "\n"
      ],
      "metadata": {
        "id": "uBIPVzMiq4Mu"
      }
    },
    {
      "cell_type": "code",
      "source": [
        "def load_model(model_file, vectorizer_file):\n",
        "    # load model and vectorizer from disk\n",
        "\n",
        "    model = pickle.load(open(model_file, 'rb'))\n",
        "\n",
        "    print('Loaded model from ', model_file)\n",
        "\n",
        "    vectorizer = pickle.load(open(vectorizer_file, 'rb'))\n",
        "\n",
        "    print('Loaded Vectorizer from ', vectorizer_file)\n",
        "\n",
        "\n",
        "    return model, vectorizer"
      ],
      "metadata": {
        "id": "LPt2VYxrq80u"
      },
      "execution_count": 31,
      "outputs": []
    },
    {
      "cell_type": "markdown",
      "source": [
        "#Train Method 1"
      ],
      "metadata": {
        "id": "0KFj7XXIUSbQ"
      }
    },
    {
      "cell_type": "code",
      "source": [
        "def train_method1(train_file, val_file, model_dir):\n",
        "  train_df = pd.read_csv(train_file)\n",
        "  val_df = pd.read_csv(val_file)\n",
        "  #Get train df label column\n",
        "  train_label = train_df['label']\n",
        "  # Get val df label column\n",
        "  val_df['label'] = val_df['label'].replace({'NOT': 0, 'OFF': 1}).values\n",
        "  val_label=val_df['label']\n",
        "\n",
        "  train_values, count_vectorizer = prepare_dataset(train_df, split='train') \n",
        "  val_values= prepare_dataset(val_df,count_vectorizer)\n",
        "\n",
        "  model = train_model1(train_values,train_label,val_values,val_label)\n",
        "\n",
        "  model_file, vectorizer_file = save_model(model, count_vectorizer, model_dir)\n",
        "\n",
        "  train_pred_label = np.round(model.predict(train_values))\n",
        "  val_pred_label = np.round(model.predict(val_values))\n",
        "  train_unique_labels = np.unique(train_pred_label)\n",
        "  val_unique_labels = np.unique(val_pred_label)\n",
        "\n",
        "  print(\"Unique predicted labels for train set:\", train_unique_labels)\n",
        "  print(\"Unique predicted labels for validation set:\", val_unique_labels)\n",
        "  # print('Train Split')\n",
        "  train_f1_score = compute_performance(train_label, train_pred_label, split='train')\n",
        "\n",
        "  # print('Validation Split')\n",
        "  val_f1_score = compute_performance(val_label, val_pred_label, split='valid')\n",
        "\n",
        "\n",
        "  return model_file, vectorizer_file"
      ],
      "metadata": {
        "id": "GFEtdgUCP3aV"
      },
      "execution_count": 32,
      "outputs": []
    },
    {
      "cell_type": "code",
      "source": [
        "model_25_file, vectorizer_25_file=train_method1(train_25_path, valid_file, MODEL_1_25_DIRECTORY)"
      ],
      "metadata": {
        "colab": {
          "base_uri": "https://localhost:8080/"
        },
        "id": "83hImhEoUawB",
        "outputId": "b07fc31e-4340-4c98-e44b-e63a0b71a20f"
      },
      "execution_count": 33,
      "outputs": [
        {
          "output_type": "stream",
          "name": "stdout",
          "text": [
            "Model: \"sequential\"\n",
            "_________________________________________________________________\n",
            " Layer (type)                Output Shape              Param #   \n",
            "=================================================================\n",
            " embedding (Embedding)       (None, 100, 40)           200000    \n",
            "                                                                 \n",
            " bidirectional (Bidirectiona  (None, 200)              112800    \n",
            " l)                                                              \n",
            "                                                                 \n",
            " dropout (Dropout)           (None, 200)               0         \n",
            "                                                                 \n",
            " dense (Dense)               (None, 1)                 201       \n",
            "                                                                 \n",
            "=================================================================\n",
            "Total params: 313,001\n",
            "Trainable params: 313,001\n",
            "Non-trainable params: 0\n",
            "_________________________________________________________________\n",
            "None\n",
            "Epoch 1/10\n",
            "49/49 [==============================] - 24s 354ms/step - loss: 0.6400 - accuracy: 0.6634 - val_loss: 0.6486 - val_accuracy: 0.6677\n",
            "Epoch 2/10\n",
            "49/49 [==============================] - 15s 299ms/step - loss: 0.5978 - accuracy: 0.6738 - val_loss: 0.6037 - val_accuracy: 0.6667\n",
            "Epoch 3/10\n",
            "49/49 [==============================] - 15s 307ms/step - loss: 0.4703 - accuracy: 0.7872 - val_loss: 0.6058 - val_accuracy: 0.7087\n",
            "Epoch 4/10\n",
            "49/49 [==============================] - 15s 309ms/step - loss: 0.3299 - accuracy: 0.8707 - val_loss: 0.7159 - val_accuracy: 0.7152\n",
            "Epoch 5/10\n",
            "49/49 [==============================] - 15s 302ms/step - loss: 0.2345 - accuracy: 0.9136 - val_loss: 0.7609 - val_accuracy: 0.7109\n",
            "Epoch 6/10\n",
            "49/49 [==============================] - 15s 304ms/step - loss: 0.1684 - accuracy: 0.9396 - val_loss: 0.9216 - val_accuracy: 0.6785\n",
            "Epoch 7/10\n",
            "49/49 [==============================] - 15s 311ms/step - loss: 0.1262 - accuracy: 0.9584 - val_loss: 1.0583 - val_accuracy: 0.7001\n",
            "Epoch 8/10\n",
            "49/49 [==============================] - 15s 305ms/step - loss: 0.0899 - accuracy: 0.9695 - val_loss: 1.1934 - val_accuracy: 0.6926\n",
            "Epoch 9/10\n",
            "49/49 [==============================] - 17s 345ms/step - loss: 0.0703 - accuracy: 0.9792 - val_loss: 1.2728 - val_accuracy: 0.6882\n",
            "Epoch 10/10\n",
            "49/49 [==============================] - 15s 315ms/step - loss: 0.0466 - accuracy: 0.9867 - val_loss: 1.5382 - val_accuracy: 0.6688\n",
            "Saved model to  gdrive/MyDrive/./CE807/Assignment2/2202100/models/1/25/model.sav\n",
            "Saved Vectorizer to  gdrive/MyDrive/./CE807/Assignment2/2202100/models/1/25/vectorizer.sav\n",
            "97/97 [==============================] - 4s 33ms/step\n",
            "29/29 [==============================] - 2s 61ms/step\n",
            "Unique predicted labels for train set: [0. 1.]\n",
            "Unique predicted labels for validation set: [0. 1.]\n",
            "Computing different performance metrics on train set of Dataset\n",
            "F1 Score(macro):  0.9832837470248215\n",
            "Accuracy:  0.9850552306692657\n",
            "Confusion Matrix:\n",
            "[[2017   38]\n",
            " [   8 1015]]\n",
            "Computing different performance metrics on valid set of Dataset\n",
            "F1 Score(macro):  0.6428480891132226\n",
            "Accuracy:  0.668824163969795\n",
            "Confusion Matrix:\n",
            "[[435 184]\n",
            " [123 185]]\n"
          ]
        }
      ]
    },
    {
      "cell_type": "code",
      "source": [
        "model_50_file, vectorizer_50_file=train_method1(train_50_path, valid_file, MODEL_1_50_DIRECTORY)"
      ],
      "metadata": {
        "colab": {
          "base_uri": "https://localhost:8080/"
        },
        "id": "v4msMRqItBzf",
        "outputId": "e874191f-0cff-45b9-801d-20404c6b9b15"
      },
      "execution_count": 34,
      "outputs": [
        {
          "output_type": "stream",
          "name": "stdout",
          "text": [
            "Model: \"sequential_1\"\n",
            "_________________________________________________________________\n",
            " Layer (type)                Output Shape              Param #   \n",
            "=================================================================\n",
            " embedding_1 (Embedding)     (None, 100, 40)           200000    \n",
            "                                                                 \n",
            " bidirectional_1 (Bidirectio  (None, 200)              112800    \n",
            " nal)                                                            \n",
            "                                                                 \n",
            " dropout_1 (Dropout)         (None, 200)               0         \n",
            "                                                                 \n",
            " dense_1 (Dense)             (None, 1)                 201       \n",
            "                                                                 \n",
            "=================================================================\n",
            "Total params: 313,001\n",
            "Trainable params: 313,001\n",
            "Non-trainable params: 0\n",
            "_________________________________________________________________\n",
            "None\n",
            "Epoch 1/10\n",
            "97/97 [==============================] - 34s 308ms/step - loss: 0.6297 - accuracy: 0.6670 - val_loss: 0.6074 - val_accuracy: 0.6688\n",
            "Epoch 2/10\n",
            "97/97 [==============================] - 29s 292ms/step - loss: 0.5175 - accuracy: 0.7484 - val_loss: 0.5562 - val_accuracy: 0.7163\n",
            "Epoch 3/10\n",
            "97/97 [==============================] - 29s 300ms/step - loss: 0.3933 - accuracy: 0.8252 - val_loss: 0.5704 - val_accuracy: 0.7249\n",
            "Epoch 4/10\n",
            "97/97 [==============================] - 29s 302ms/step - loss: 0.3277 - accuracy: 0.8629 - val_loss: 0.6302 - val_accuracy: 0.7109\n",
            "Epoch 5/10\n",
            "97/97 [==============================] - 29s 303ms/step - loss: 0.2691 - accuracy: 0.8928 - val_loss: 0.7095 - val_accuracy: 0.7087\n",
            "Epoch 6/10\n",
            "97/97 [==============================] - 29s 295ms/step - loss: 0.2160 - accuracy: 0.9181 - val_loss: 0.7762 - val_accuracy: 0.7141\n",
            "Epoch 7/10\n",
            "97/97 [==============================] - 29s 302ms/step - loss: 0.1682 - accuracy: 0.9386 - val_loss: 0.8704 - val_accuracy: 0.7033\n",
            "Epoch 8/10\n",
            "97/97 [==============================] - 29s 299ms/step - loss: 0.1235 - accuracy: 0.9568 - val_loss: 1.0707 - val_accuracy: 0.6893\n",
            "Epoch 9/10\n",
            "97/97 [==============================] - 29s 297ms/step - loss: 0.0925 - accuracy: 0.9673 - val_loss: 1.1978 - val_accuracy: 0.7033\n",
            "Epoch 10/10\n",
            "97/97 [==============================] - 28s 289ms/step - loss: 0.0780 - accuracy: 0.9722 - val_loss: 1.3194 - val_accuracy: 0.6980\n",
            "Saved model to  gdrive/MyDrive/./CE807/Assignment2/2202100/models/1/50/model.sav\n",
            "Saved Vectorizer to  gdrive/MyDrive/./CE807/Assignment2/2202100/models/1/50/vectorizer.sav\n",
            "193/193 [==============================] - 9s 42ms/step\n",
            "29/29 [==============================] - 1s 36ms/step\n",
            "Unique predicted labels for train set: [0. 1.]\n",
            "Unique predicted labels for validation set: [0. 1.]\n",
            "Computing different performance metrics on train set of Dataset\n",
            "F1 Score(macro):  0.9851847119999774\n",
            "Accuracy:  0.9868421052631579\n",
            "Confusion Matrix:\n",
            "[[4067   43]\n",
            " [  38 2008]]\n",
            "Computing different performance metrics on valid set of Dataset\n",
            "F1 Score(macro):  0.6612832505115462\n",
            "Accuracy:  0.697950377562028\n",
            "Confusion Matrix:\n",
            "[[476 143]\n",
            " [137 171]]\n"
          ]
        }
      ]
    },
    {
      "cell_type": "code",
      "source": [
        "model_75_file, vectorizer_75_file=train_method1(train_75_path, valid_file, MODEL_1_75_DIRECTORY)"
      ],
      "metadata": {
        "colab": {
          "base_uri": "https://localhost:8080/"
        },
        "id": "S-Z09ahBtI5-",
        "outputId": "0bb32006-4a13-48ae-8db3-0a707c8c1609"
      },
      "execution_count": 35,
      "outputs": [
        {
          "output_type": "stream",
          "name": "stdout",
          "text": [
            "Model: \"sequential_2\"\n",
            "_________________________________________________________________\n",
            " Layer (type)                Output Shape              Param #   \n",
            "=================================================================\n",
            " embedding_2 (Embedding)     (None, 100, 40)           200000    \n",
            "                                                                 \n",
            " bidirectional_2 (Bidirectio  (None, 200)              112800    \n",
            " nal)                                                            \n",
            "                                                                 \n",
            " dropout_2 (Dropout)         (None, 200)               0         \n",
            "                                                                 \n",
            " dense_2 (Dense)             (None, 1)                 201       \n",
            "                                                                 \n",
            "=================================================================\n",
            "Total params: 313,001\n",
            "Trainable params: 313,001\n",
            "Non-trainable params: 0\n",
            "_________________________________________________________________\n",
            "None\n",
            "Epoch 1/10\n",
            "145/145 [==============================] - 52s 323ms/step - loss: 0.6194 - accuracy: 0.6719 - val_loss: 0.5797 - val_accuracy: 0.6872\n",
            "Epoch 2/10\n",
            "145/145 [==============================] - 43s 297ms/step - loss: 0.4788 - accuracy: 0.7779 - val_loss: 0.5499 - val_accuracy: 0.7325\n",
            "Epoch 3/10\n",
            "145/145 [==============================] - 43s 296ms/step - loss: 0.3940 - accuracy: 0.8249 - val_loss: 0.5816 - val_accuracy: 0.7303\n",
            "Epoch 4/10\n",
            "145/145 [==============================] - 43s 299ms/step - loss: 0.3471 - accuracy: 0.8510 - val_loss: 0.6295 - val_accuracy: 0.7109\n",
            "Epoch 5/10\n",
            "145/145 [==============================] - 43s 297ms/step - loss: 0.2984 - accuracy: 0.8757 - val_loss: 0.6809 - val_accuracy: 0.7033\n",
            "Epoch 6/10\n",
            "145/145 [==============================] - 43s 297ms/step - loss: 0.2474 - accuracy: 0.8993 - val_loss: 0.7753 - val_accuracy: 0.7120\n",
            "Epoch 7/10\n",
            "145/145 [==============================] - 44s 303ms/step - loss: 0.2063 - accuracy: 0.9181 - val_loss: 0.9063 - val_accuracy: 0.6861\n",
            "Epoch 8/10\n",
            "145/145 [==============================] - 43s 299ms/step - loss: 0.1649 - accuracy: 0.9414 - val_loss: 0.9633 - val_accuracy: 0.6990\n",
            "Epoch 9/10\n",
            "145/145 [==============================] - 43s 298ms/step - loss: 0.1351 - accuracy: 0.9507 - val_loss: 1.0784 - val_accuracy: 0.7001\n",
            "Epoch 10/10\n",
            "145/145 [==============================] - 43s 300ms/step - loss: 0.1246 - accuracy: 0.9581 - val_loss: 1.1670 - val_accuracy: 0.6721\n",
            "Saved model to  gdrive/MyDrive/./CE807/Assignment2/2202100/models/1/75/model.sav\n",
            "Saved Vectorizer to  gdrive/MyDrive/./CE807/Assignment2/2202100/models/1/75/vectorizer.sav\n",
            "289/289 [==============================] - 13s 43ms/step\n",
            "29/29 [==============================] - 1s 37ms/step\n",
            "Unique predicted labels for train set: [0. 1.]\n",
            "Unique predicted labels for validation set: [0. 1.]\n",
            "Computing different performance metrics on train set of Dataset\n",
            "F1 Score(macro):  0.9686783869915963\n",
            "Accuracy:  0.9720597790773229\n",
            "Confusion Matrix:\n",
            "[[6005  160]\n",
            " [  98 2971]]\n",
            "Computing different performance metrics on valid set of Dataset\n",
            "F1 Score(macro):  0.6433532449124229\n",
            "Accuracy:  0.6720604099244876\n",
            "Confusion Matrix:\n",
            "[[443 176]\n",
            " [128 180]]\n"
          ]
        }
      ]
    },
    {
      "cell_type": "code",
      "source": [
        "model_100_file, vectorizer_100_file=train_method1(train_100_path, valid_file, MODEL_1_100_DIRECTORY)"
      ],
      "metadata": {
        "colab": {
          "base_uri": "https://localhost:8080/"
        },
        "id": "GCI62z86tMB-",
        "outputId": "32d01590-c9a7-4b56-b2ea-ce33fc5ed3d7"
      },
      "execution_count": 36,
      "outputs": [
        {
          "output_type": "stream",
          "name": "stdout",
          "text": [
            "Model: \"sequential_3\"\n",
            "_________________________________________________________________\n",
            " Layer (type)                Output Shape              Param #   \n",
            "=================================================================\n",
            " embedding_3 (Embedding)     (None, 100, 40)           200000    \n",
            "                                                                 \n",
            " bidirectional_3 (Bidirectio  (None, 200)              112800    \n",
            " nal)                                                            \n",
            "                                                                 \n",
            " dropout_3 (Dropout)         (None, 200)               0         \n",
            "                                                                 \n",
            " dense_3 (Dense)             (None, 1)                 201       \n",
            "                                                                 \n",
            "=================================================================\n",
            "Total params: 313,001\n",
            "Trainable params: 313,001\n",
            "Non-trainable params: 0\n",
            "_________________________________________________________________\n",
            "None\n",
            "Epoch 1/10\n",
            "193/193 [==============================] - 64s 304ms/step - loss: 0.6015 - accuracy: 0.6887 - val_loss: 0.5550 - val_accuracy: 0.7260\n",
            "Epoch 2/10\n",
            "193/193 [==============================] - 57s 296ms/step - loss: 0.4706 - accuracy: 0.7858 - val_loss: 0.5400 - val_accuracy: 0.7335\n",
            "Epoch 3/10\n",
            "193/193 [==============================] - 57s 297ms/step - loss: 0.4086 - accuracy: 0.8188 - val_loss: 0.5632 - val_accuracy: 0.7260\n",
            "Epoch 4/10\n",
            "193/193 [==============================] - 58s 299ms/step - loss: 0.3677 - accuracy: 0.8416 - val_loss: 0.5987 - val_accuracy: 0.7174\n",
            "Epoch 5/10\n",
            "193/193 [==============================] - 58s 300ms/step - loss: 0.3294 - accuracy: 0.8641 - val_loss: 0.6416 - val_accuracy: 0.7260\n",
            "Epoch 6/10\n",
            "193/193 [==============================] - 58s 301ms/step - loss: 0.2870 - accuracy: 0.8816 - val_loss: 0.7563 - val_accuracy: 0.7066\n",
            "Epoch 7/10\n",
            "193/193 [==============================] - 57s 293ms/step - loss: 0.2539 - accuracy: 0.8999 - val_loss: 0.7851 - val_accuracy: 0.6969\n",
            "Epoch 8/10\n",
            "193/193 [==============================] - 57s 296ms/step - loss: 0.2251 - accuracy: 0.9129 - val_loss: 0.8866 - val_accuracy: 0.7044\n",
            "Epoch 9/10\n",
            "193/193 [==============================] - 57s 292ms/step - loss: 0.2006 - accuracy: 0.9217 - val_loss: 0.8759 - val_accuracy: 0.7087\n",
            "Epoch 10/10\n",
            "193/193 [==============================] - 57s 294ms/step - loss: 0.1839 - accuracy: 0.9313 - val_loss: 1.0142 - val_accuracy: 0.7098\n",
            "Saved model to  gdrive/MyDrive/./CE807/Assignment2/2202100/models/1/100/model.sav\n",
            "Saved Vectorizer to  gdrive/MyDrive/./CE807/Assignment2/2202100/models/1/100/vectorizer.sav\n",
            "385/385 [==============================] - 17s 43ms/step\n",
            "29/29 [==============================] - 2s 62ms/step\n",
            "Unique predicted labels for train set: [0. 1.]\n",
            "Unique predicted labels for validation set: [0. 1.]\n",
            "Computing different performance metrics on train set of Dataset\n",
            "F1 Score(macro):  0.949624431104255\n",
            "Accuracy:  0.955900268009421\n",
            "Confusion Matrix:\n",
            "[[8058  163]\n",
            " [ 380 3712]]\n",
            "Computing different performance metrics on valid set of Dataset\n",
            "F1 Score(macro):  0.667118761722322\n",
            "Accuracy:  0.7098166127292341\n",
            "Confusion Matrix:\n",
            "[[495 124]\n",
            " [145 163]]\n"
          ]
        }
      ]
    },
    {
      "cell_type": "markdown",
      "source": [
        "## Testing code"
      ],
      "metadata": {
        "id": "7uHM6wKjm7nF"
      }
    },
    {
      "cell_type": "code",
      "source": [
        "def test_method1(test_file, model_file, vectorizer_file, output_dir):\n",
        "  test_data = pd.read_csv(test_file)\n",
        "\n",
        "  #Get test df label column\n",
        "  test_data['label'] = np.where(test_data['label'] == 'NOT', 0, 1)\n",
        "  test_label=test_data['label']\n",
        "\n",
        "  # Load the model and vectorizer\n",
        "  model, vectorizer = load_model(model_file, vectorizer_file) \n",
        "\n",
        "  # Clean the data\n",
        "  test_values= prepare_dataset(test_data,vectorizer)\n",
        "\n",
        "  # Test prediction label\n",
        "  test_pred_label = np.round(model.predict(test_values))\n",
        "\n",
        "  # Evaluate\n",
        "  test_f1_score = compute_performance(test_label, test_pred_label, split='train')\n",
        "\n",
        "  # Storing the predictions\n",
        "  test_data['out_label']  = test_pred_label # Note how this is saved \n",
        "\n",
        "  out_file = os.path.join(output_dir, 'output_test.csv')\n",
        "\n",
        "  # Converting the label field numeric values back into OFF and NOT\n",
        "  test_data['label'] = np.where(test_data['label'] == 0, 'NOT', 'OFF')\n",
        "  test_data['out_label'] = np.where(test_data['out_label'] == 0, 'NOT', 'OFF')\n",
        "\n",
        "  print('Saving model output to', out_file)\n",
        "  test_data.to_csv(out_file)\n"
      ],
      "metadata": {
        "id": "A4TeHksOm2ej"
      },
      "execution_count": 37,
      "outputs": []
    },
    {
      "cell_type": "markdown",
      "source": [
        "####Test for 25% data"
      ],
      "metadata": {
        "id": "9NSXxpJWIWFS"
      }
    },
    {
      "cell_type": "code",
      "source": [
        "print('Testing using model trained on 25% data')\n",
        "test_method1(test_file, model_25_file, vectorizer_25_file, MODEL_1_25_DIRECTORY)"
      ],
      "metadata": {
        "colab": {
          "base_uri": "https://localhost:8080/"
        },
        "id": "o59jerKqFFg9",
        "outputId": "3335232d-e093-424b-b4df-4805a078b5f6"
      },
      "execution_count": 38,
      "outputs": [
        {
          "output_type": "stream",
          "name": "stdout",
          "text": [
            "Testing using model trained on 25% data\n",
            "Loaded model from  gdrive/MyDrive/./CE807/Assignment2/2202100/models/1/25/model.sav\n",
            "Loaded Vectorizer from  gdrive/MyDrive/./CE807/Assignment2/2202100/models/1/25/vectorizer.sav\n",
            "27/27 [==============================] - 5s 91ms/step\n",
            "Computing different performance metrics on train set of Dataset\n",
            "F1 Score(macro):  0.6076247921741484\n",
            "Accuracy:  0.6569767441860465\n",
            "Confusion Matrix:\n",
            "[[435 185]\n",
            " [110 130]]\n",
            "Saving model output to gdrive/MyDrive/./CE807/Assignment2/2202100/models/1/25/output_test.csv\n"
          ]
        }
      ]
    },
    {
      "cell_type": "markdown",
      "source": [
        "####Test for 50% data"
      ],
      "metadata": {
        "id": "cppYkfQHIaTi"
      }
    },
    {
      "cell_type": "code",
      "source": [
        "print('Testing using model trained on 50% data')\n",
        "test_method1(test_file, model_50_file, vectorizer_50_file, MODEL_1_50_DIRECTORY)"
      ],
      "metadata": {
        "colab": {
          "base_uri": "https://localhost:8080/"
        },
        "id": "8IxA37TNIDZD",
        "outputId": "bdd70da2-52f4-4f23-9000-082466309cf5"
      },
      "execution_count": 39,
      "outputs": [
        {
          "output_type": "stream",
          "name": "stdout",
          "text": [
            "Testing using model trained on 50% data\n",
            "Loaded model from  gdrive/MyDrive/./CE807/Assignment2/2202100/models/1/50/model.sav\n",
            "Loaded Vectorizer from  gdrive/MyDrive/./CE807/Assignment2/2202100/models/1/50/vectorizer.sav\n",
            "27/27 [==============================] - 2s 36ms/step\n",
            "Computing different performance metrics on train set of Dataset\n",
            "F1 Score(macro):  0.6358404523423862\n",
            "Accuracy:  0.6872093023255814\n",
            "Confusion Matrix:\n",
            "[[457 163]\n",
            " [106 134]]\n",
            "Saving model output to gdrive/MyDrive/./CE807/Assignment2/2202100/models/1/50/output_test.csv\n"
          ]
        }
      ]
    },
    {
      "cell_type": "markdown",
      "source": [
        "####Test for 75% data"
      ],
      "metadata": {
        "id": "wnaBKRjcIgeC"
      }
    },
    {
      "cell_type": "code",
      "source": [
        "print('Testing using model trained on 75% data')\n",
        "test_method1(test_file, model_75_file, vectorizer_75_file, MODEL_1_75_DIRECTORY)"
      ],
      "metadata": {
        "colab": {
          "base_uri": "https://localhost:8080/"
        },
        "id": "JMwiXPbtIJ2E",
        "outputId": "ccf7a517-2a2d-422c-e732-f0b674933cb4"
      },
      "execution_count": 40,
      "outputs": [
        {
          "output_type": "stream",
          "name": "stdout",
          "text": [
            "Testing using model trained on 75% data\n",
            "Loaded model from  gdrive/MyDrive/./CE807/Assignment2/2202100/models/1/75/model.sav\n",
            "Loaded Vectorizer from  gdrive/MyDrive/./CE807/Assignment2/2202100/models/1/75/vectorizer.sav\n",
            "27/27 [==============================] - 2s 35ms/step\n",
            "Computing different performance metrics on train set of Dataset\n",
            "F1 Score(macro):  0.6511627906976745\n",
            "Accuracy:  0.7069767441860465\n",
            "Confusion Matrix:\n",
            "[[476 144]\n",
            " [108 132]]\n",
            "Saving model output to gdrive/MyDrive/./CE807/Assignment2/2202100/models/1/75/output_test.csv\n"
          ]
        }
      ]
    },
    {
      "cell_type": "markdown",
      "source": [
        "####Test for 100% data"
      ],
      "metadata": {
        "id": "a8odqf-lImhM"
      }
    },
    {
      "cell_type": "code",
      "source": [
        "print('Testing using model trained on 75% data')\n",
        "test_method1(test_file, model_100_file, vectorizer_100_file, MODEL_1_100_DIRECTORY)"
      ],
      "metadata": {
        "colab": {
          "base_uri": "https://localhost:8080/"
        },
        "id": "hWMU4QUuIphC",
        "outputId": "df2a7ad9-00b4-4830-acc9-6a3721015751"
      },
      "execution_count": 41,
      "outputs": [
        {
          "output_type": "stream",
          "name": "stdout",
          "text": [
            "Testing using model trained on 75% data\n",
            "Loaded model from  gdrive/MyDrive/./CE807/Assignment2/2202100/models/1/100/model.sav\n",
            "Loaded Vectorizer from  gdrive/MyDrive/./CE807/Assignment2/2202100/models/1/100/vectorizer.sav\n",
            "27/27 [==============================] - 2s 39ms/step\n",
            "Computing different performance metrics on train set of Dataset\n",
            "F1 Score(macro):  0.6769481197044952\n",
            "Accuracy:  0.7383720930232558\n",
            "Confusion Matrix:\n",
            "[[505 115]\n",
            " [110 130]]\n",
            "Saving model output to gdrive/MyDrive/./CE807/Assignment2/2202100/models/1/100/output_test.csv\n"
          ]
        }
      ]
    },
    {
      "cell_type": "markdown",
      "source": [
        "####Train model 2"
      ],
      "metadata": {
        "id": "dFISzbpfLYEr"
      }
    },
    {
      "cell_type": "code",
      "source": [
        "# Define the CNN model architecture\n",
        "def trainmodel2(text_vector, label, val_values, val_label):  \n",
        "  model2 = Sequential()\n",
        "  vocabulary_size = 5000\n",
        "  max_tweet_length = 100\n",
        "  model2.add(Embedding(vocabulary_size, 32, input_length=max_tweet_length))\n",
        "  model2.add(Conv1D(filters=32, kernel_size=3, activation='relu'))\n",
        "  model2.add(MaxPooling1D(pool_size=2))\n",
        "  model2.add(Dropout(0.2))\n",
        "  model2.add(Flatten())\n",
        "  model2.add(Dense(1, activation='sigmoid'))\n",
        "  print(model2.summary())\n",
        "  # Compile the model\n",
        "  model2.compile(optimizer='adam', loss='binary_crossentropy', metrics=['accuracy'])\n",
        "\n",
        "  # Train the model\n",
        "  model2.fit(text_vector,label,validation_data=(val_values,val_label),epochs=10,batch_size=64)\n",
        "  return model2\n"
      ],
      "metadata": {
        "id": "djddxmqBLKSi"
      },
      "execution_count": 42,
      "outputs": []
    },
    {
      "cell_type": "markdown",
      "source": [
        "##Training Method 2"
      ],
      "metadata": {
        "id": "WiFX30-9LmH8"
      }
    },
    {
      "cell_type": "code",
      "source": [
        "def train_method2(train_file, val_file, model_dir):\n",
        "  train_df = pd.read_csv(train_file)\n",
        "  val_df = pd.read_csv(val_file)\n",
        "  #Get train df label column\n",
        "  train_label = train_df['label']\n",
        "  # Get val df label column\n",
        "  val_df['label'] = val_df['label'].replace({'NOT': 0, 'OFF': 1})\n",
        "  val_label=val_df['label']\n",
        "\n",
        "  train_values, count_vectorizer = prepare_dataset(train_df, split='train') \n",
        "  val_values= prepare_dataset(val_df,count_vectorizer)\n",
        "\n",
        "  model2 = trainmodel2(train_values,train_label,val_values,val_label)\n",
        "\n",
        "  model_file, vectorizer_file = save_model(model2, count_vectorizer, model_dir)\n",
        "\n",
        "  train_pred_label = np.round(model2.predict(train_values))\n",
        "  val_pred_label = np.round(model2.predict(val_values))\n",
        "  train_unique_labels = np.unique(train_pred_label)\n",
        "  val_unique_labels = np.unique(val_pred_label)\n",
        "\n",
        "  print(\"Unique predicted labels for train set:\", train_unique_labels)\n",
        "  print(\"Unique predicted labels for validation set:\", val_unique_labels)\n",
        "  # print('Train Split')\n",
        "  train_f1_score = compute_performance(train_label, train_pred_label, split='train')\n",
        "\n",
        "  # print('Validation Split')\n",
        "  val_f1_score = compute_performance(val_label, val_pred_label, split='valid')\n",
        "\n",
        "\n",
        "  return model_file, vectorizer_file"
      ],
      "metadata": {
        "id": "bOqpGTkMLlps"
      },
      "execution_count": 43,
      "outputs": []
    },
    {
      "cell_type": "code",
      "source": [
        "model_25_file, vectorizer_25_file=train_method2(train_25_path, valid_file, MODEL_2_25_DIRECTORY)"
      ],
      "metadata": {
        "id": "rXFNlsdeLKPC",
        "colab": {
          "base_uri": "https://localhost:8080/"
        },
        "outputId": "985d1fc4-d152-4abc-e561-bc90bc00b814"
      },
      "execution_count": 44,
      "outputs": [
        {
          "output_type": "stream",
          "name": "stdout",
          "text": [
            "Model: \"sequential_4\"\n",
            "_________________________________________________________________\n",
            " Layer (type)                Output Shape              Param #   \n",
            "=================================================================\n",
            " embedding_4 (Embedding)     (None, 100, 32)           160000    \n",
            "                                                                 \n",
            " conv1d (Conv1D)             (None, 98, 32)            3104      \n",
            "                                                                 \n",
            " max_pooling1d (MaxPooling1D  (None, 49, 32)           0         \n",
            " )                                                               \n",
            "                                                                 \n",
            " dropout_4 (Dropout)         (None, 49, 32)            0         \n",
            "                                                                 \n",
            " flatten (Flatten)           (None, 1568)              0         \n",
            "                                                                 \n",
            " dense_4 (Dense)             (None, 1)                 1569      \n",
            "                                                                 \n",
            "=================================================================\n",
            "Total params: 164,673\n",
            "Trainable params: 164,673\n",
            "Non-trainable params: 0\n",
            "_________________________________________________________________\n",
            "None\n",
            "Epoch 1/10\n",
            "49/49 [==============================] - 3s 34ms/step - loss: 0.6452 - accuracy: 0.6673 - val_loss: 0.6352 - val_accuracy: 0.6677\n",
            "Epoch 2/10\n",
            "49/49 [==============================] - 1s 25ms/step - loss: 0.6241 - accuracy: 0.6676 - val_loss: 0.6310 - val_accuracy: 0.6677\n",
            "Epoch 3/10\n",
            "49/49 [==============================] - 1s 19ms/step - loss: 0.5987 - accuracy: 0.6689 - val_loss: 0.6229 - val_accuracy: 0.6667\n",
            "Epoch 4/10\n",
            "49/49 [==============================] - 1s 20ms/step - loss: 0.5244 - accuracy: 0.7336 - val_loss: 0.6064 - val_accuracy: 0.6753\n",
            "Epoch 5/10\n",
            "49/49 [==============================] - 1s 20ms/step - loss: 0.4002 - accuracy: 0.8532 - val_loss: 0.6097 - val_accuracy: 0.6839\n",
            "Epoch 6/10\n",
            "49/49 [==============================] - 1s 19ms/step - loss: 0.2719 - accuracy: 0.9152 - val_loss: 0.6500 - val_accuracy: 0.6807\n",
            "Epoch 7/10\n",
            "49/49 [==============================] - 1s 22ms/step - loss: 0.1869 - accuracy: 0.9474 - val_loss: 0.7139 - val_accuracy: 0.6807\n",
            "Epoch 8/10\n",
            "49/49 [==============================] - 1s 19ms/step - loss: 0.1351 - accuracy: 0.9617 - val_loss: 0.7888 - val_accuracy: 0.6828\n",
            "Epoch 9/10\n",
            "49/49 [==============================] - 1s 19ms/step - loss: 0.1000 - accuracy: 0.9776 - val_loss: 0.8558 - val_accuracy: 0.6775\n",
            "Epoch 10/10\n",
            "49/49 [==============================] - 1s 19ms/step - loss: 0.0732 - accuracy: 0.9834 - val_loss: 0.9297 - val_accuracy: 0.6742\n",
            "Saved model to  gdrive/MyDrive/./CE807/Assignment2/2202100/models/2/25/model.sav\n",
            "Saved Vectorizer to  gdrive/MyDrive/./CE807/Assignment2/2202100/models/2/25/vectorizer.sav\n",
            "97/97 [==============================] - 0s 3ms/step\n",
            "29/29 [==============================] - 0s 5ms/step\n",
            "Unique predicted labels for train set: [0. 1.]\n",
            "Unique predicted labels for validation set: [0. 1.]\n",
            "Computing different performance metrics on train set of Dataset\n",
            "F1 Score(macro):  0.9889642875069615\n",
            "Accuracy:  0.9902534113060428\n",
            "Confusion Matrix:\n",
            "[[2050    5]\n",
            " [  25  998]]\n",
            "Computing different performance metrics on valid set of Dataset\n",
            "F1 Score(macro):  0.6218391363547948\n",
            "Accuracy:  0.674217907227616\n",
            "Confusion Matrix:\n",
            "[[485 134]\n",
            " [168 140]]\n"
          ]
        }
      ]
    },
    {
      "cell_type": "code",
      "source": [
        "model_50_file, vectorizer_50_file=train_method2(train_50_path, valid_file, MODEL_2_50_DIRECTORY)"
      ],
      "metadata": {
        "id": "cSaY_4qaZGMt",
        "colab": {
          "base_uri": "https://localhost:8080/"
        },
        "outputId": "45a84410-b94d-4c59-e716-7bfafee3ff51"
      },
      "execution_count": 45,
      "outputs": [
        {
          "output_type": "stream",
          "name": "stdout",
          "text": [
            "Model: \"sequential_5\"\n",
            "_________________________________________________________________\n",
            " Layer (type)                Output Shape              Param #   \n",
            "=================================================================\n",
            " embedding_5 (Embedding)     (None, 100, 32)           160000    \n",
            "                                                                 \n",
            " conv1d_1 (Conv1D)           (None, 98, 32)            3104      \n",
            "                                                                 \n",
            " max_pooling1d_1 (MaxPooling  (None, 49, 32)           0         \n",
            " 1D)                                                             \n",
            "                                                                 \n",
            " dropout_5 (Dropout)         (None, 49, 32)            0         \n",
            "                                                                 \n",
            " flatten_1 (Flatten)         (None, 1568)              0         \n",
            "                                                                 \n",
            " dense_5 (Dense)             (None, 1)                 1569      \n",
            "                                                                 \n",
            "=================================================================\n",
            "Total params: 164,673\n",
            "Trainable params: 164,673\n",
            "Non-trainable params: 0\n",
            "_________________________________________________________________\n",
            "None\n",
            "Epoch 1/10\n",
            "97/97 [==============================] - 4s 27ms/step - loss: 0.6391 - accuracy: 0.6620 - val_loss: 0.6320 - val_accuracy: 0.6677\n",
            "Epoch 2/10\n",
            "97/97 [==============================] - 2s 16ms/step - loss: 0.6093 - accuracy: 0.6681 - val_loss: 0.6114 - val_accuracy: 0.6688\n",
            "Epoch 3/10\n",
            "97/97 [==============================] - 2s 17ms/step - loss: 0.5095 - accuracy: 0.7513 - val_loss: 0.5679 - val_accuracy: 0.7195\n",
            "Epoch 4/10\n",
            "97/97 [==============================] - 2s 17ms/step - loss: 0.3739 - accuracy: 0.8445 - val_loss: 0.6023 - val_accuracy: 0.7292\n",
            "Epoch 5/10\n",
            "97/97 [==============================] - 2s 17ms/step - loss: 0.2859 - accuracy: 0.8860 - val_loss: 0.6469 - val_accuracy: 0.7163\n",
            "Epoch 6/10\n",
            "97/97 [==============================] - 2s 17ms/step - loss: 0.2174 - accuracy: 0.9185 - val_loss: 0.7053 - val_accuracy: 0.7077\n",
            "Epoch 7/10\n",
            "97/97 [==============================] - 2s 20ms/step - loss: 0.1634 - accuracy: 0.9449 - val_loss: 0.7839 - val_accuracy: 0.6958\n",
            "Epoch 8/10\n",
            "97/97 [==============================] - 3s 30ms/step - loss: 0.1222 - accuracy: 0.9636 - val_loss: 0.8627 - val_accuracy: 0.7023\n",
            "Epoch 9/10\n",
            "97/97 [==============================] - 2s 22ms/step - loss: 0.0926 - accuracy: 0.9734 - val_loss: 0.9447 - val_accuracy: 0.7012\n",
            "Epoch 10/10\n",
            "97/97 [==============================] - 2s 16ms/step - loss: 0.0705 - accuracy: 0.9818 - val_loss: 1.0245 - val_accuracy: 0.7001\n",
            "Saved model to  gdrive/MyDrive/./CE807/Assignment2/2202100/models/2/50/model.sav\n",
            "Saved Vectorizer to  gdrive/MyDrive/./CE807/Assignment2/2202100/models/2/50/vectorizer.sav\n",
            "193/193 [==============================] - 1s 3ms/step\n",
            "29/29 [==============================] - 0s 3ms/step\n",
            "Unique predicted labels for train set: [0. 1.]\n",
            "Unique predicted labels for validation set: [0. 1.]\n",
            "Computing different performance metrics on train set of Dataset\n",
            "F1 Score(macro):  0.9901073565955956\n",
            "Accuracy:  0.9912280701754386\n",
            "Confusion Matrix:\n",
            "[[4087   23]\n",
            " [  31 2015]]\n",
            "Computing different performance metrics on valid set of Dataset\n",
            "F1 Score(macro):  0.6562856777029694\n",
            "Accuracy:  0.7001078748651565\n",
            "Confusion Matrix:\n",
            "[[490 129]\n",
            " [149 159]]\n"
          ]
        }
      ]
    },
    {
      "cell_type": "code",
      "source": [
        "model_75_file, vectorizer_75_file=train_method2(train_75_path, valid_file, MODEL_2_75_DIRECTORY)"
      ],
      "metadata": {
        "id": "gifF3fxUZG-k",
        "colab": {
          "base_uri": "https://localhost:8080/"
        },
        "outputId": "6d045e6a-01ed-4a77-e8db-b7228d24732a"
      },
      "execution_count": 46,
      "outputs": [
        {
          "output_type": "stream",
          "name": "stdout",
          "text": [
            "Model: \"sequential_6\"\n",
            "_________________________________________________________________\n",
            " Layer (type)                Output Shape              Param #   \n",
            "=================================================================\n",
            " embedding_6 (Embedding)     (None, 100, 32)           160000    \n",
            "                                                                 \n",
            " conv1d_2 (Conv1D)           (None, 98, 32)            3104      \n",
            "                                                                 \n",
            " max_pooling1d_2 (MaxPooling  (None, 49, 32)           0         \n",
            " 1D)                                                             \n",
            "                                                                 \n",
            " dropout_6 (Dropout)         (None, 49, 32)            0         \n",
            "                                                                 \n",
            " flatten_2 (Flatten)         (None, 1568)              0         \n",
            "                                                                 \n",
            " dense_6 (Dense)             (None, 1)                 1569      \n",
            "                                                                 \n",
            "=================================================================\n",
            "Total params: 164,673\n",
            "Trainable params: 164,673\n",
            "Non-trainable params: 0\n",
            "_________________________________________________________________\n",
            "None\n",
            "Epoch 1/10\n",
            "145/145 [==============================] - 3s 18ms/step - loss: 0.6330 - accuracy: 0.6674 - val_loss: 0.6282 - val_accuracy: 0.6677\n",
            "Epoch 2/10\n",
            "145/145 [==============================] - 3s 23ms/step - loss: 0.5770 - accuracy: 0.6928 - val_loss: 0.5789 - val_accuracy: 0.6958\n",
            "Epoch 3/10\n",
            "145/145 [==============================] - 3s 23ms/step - loss: 0.4477 - accuracy: 0.7969 - val_loss: 0.5834 - val_accuracy: 0.7174\n",
            "Epoch 4/10\n",
            "145/145 [==============================] - 2s 17ms/step - loss: 0.3569 - accuracy: 0.8499 - val_loss: 0.6318 - val_accuracy: 0.7184\n",
            "Epoch 5/10\n",
            "145/145 [==============================] - 3s 18ms/step - loss: 0.2849 - accuracy: 0.8852 - val_loss: 0.7188 - val_accuracy: 0.7044\n",
            "Epoch 6/10\n",
            "145/145 [==============================] - 3s 17ms/step - loss: 0.2286 - accuracy: 0.9181 - val_loss: 0.8056 - val_accuracy: 0.7109\n",
            "Epoch 7/10\n",
            "145/145 [==============================] - 3s 21ms/step - loss: 0.1777 - accuracy: 0.9395 - val_loss: 0.8895 - val_accuracy: 0.6958\n",
            "Epoch 8/10\n",
            "145/145 [==============================] - 4s 26ms/step - loss: 0.1385 - accuracy: 0.9561 - val_loss: 0.9958 - val_accuracy: 0.6958\n",
            "Epoch 9/10\n",
            "145/145 [==============================] - 3s 18ms/step - loss: 0.1082 - accuracy: 0.9691 - val_loss: 1.0786 - val_accuracy: 0.6699\n",
            "Epoch 10/10\n",
            "145/145 [==============================] - 2s 17ms/step - loss: 0.0910 - accuracy: 0.9722 - val_loss: 1.1659 - val_accuracy: 0.6915\n",
            "Saved model to  gdrive/MyDrive/./CE807/Assignment2/2202100/models/2/75/model.sav\n",
            "Saved Vectorizer to  gdrive/MyDrive/./CE807/Assignment2/2202100/models/2/75/vectorizer.sav\n",
            "289/289 [==============================] - 1s 2ms/step\n",
            "29/29 [==============================] - 0s 3ms/step\n",
            "Unique predicted labels for train set: [0. 1.]\n",
            "Unique predicted labels for validation set: [0. 1.]\n",
            "Computing different performance metrics on train set of Dataset\n",
            "F1 Score(macro):  0.983566294549224\n",
            "Accuracy:  0.9854884123889972\n",
            "Confusion Matrix:\n",
            "[[6129   36]\n",
            " [  98 2971]]\n",
            "Computing different performance metrics on valid set of Dataset\n",
            "F1 Score(macro):  0.6363249786010579\n",
            "Accuracy:  0.6914778856526429\n",
            "Confusion Matrix:\n",
            "[[501 118]\n",
            " [168 140]]\n"
          ]
        }
      ]
    },
    {
      "cell_type": "code",
      "source": [
        "model_100_file, vectorizer_100_file=train_method2(train_100_path, valid_file, MODEL_2_100_DIRECTORY)"
      ],
      "metadata": {
        "id": "Iak6RqTyZHaV",
        "colab": {
          "base_uri": "https://localhost:8080/"
        },
        "outputId": "81823b11-5943-4318-909a-9d96348b3367"
      },
      "execution_count": 47,
      "outputs": [
        {
          "output_type": "stream",
          "name": "stdout",
          "text": [
            "Model: \"sequential_7\"\n",
            "_________________________________________________________________\n",
            " Layer (type)                Output Shape              Param #   \n",
            "=================================================================\n",
            " embedding_7 (Embedding)     (None, 100, 32)           160000    \n",
            "                                                                 \n",
            " conv1d_3 (Conv1D)           (None, 98, 32)            3104      \n",
            "                                                                 \n",
            " max_pooling1d_3 (MaxPooling  (None, 49, 32)           0         \n",
            " 1D)                                                             \n",
            "                                                                 \n",
            " dropout_7 (Dropout)         (None, 49, 32)            0         \n",
            "                                                                 \n",
            " flatten_3 (Flatten)         (None, 1568)              0         \n",
            "                                                                 \n",
            " dense_7 (Dense)             (None, 1)                 1569      \n",
            "                                                                 \n",
            "=================================================================\n",
            "Total params: 164,673\n",
            "Trainable params: 164,673\n",
            "Non-trainable params: 0\n",
            "_________________________________________________________________\n",
            "None\n",
            "Epoch 1/10\n",
            "193/193 [==============================] - 4s 19ms/step - loss: 0.6312 - accuracy: 0.6654 - val_loss: 0.6136 - val_accuracy: 0.6667\n",
            "Epoch 2/10\n",
            "193/193 [==============================] - 5s 28ms/step - loss: 0.5232 - accuracy: 0.7459 - val_loss: 0.5460 - val_accuracy: 0.7368\n",
            "Epoch 3/10\n",
            "193/193 [==============================] - 3s 18ms/step - loss: 0.4140 - accuracy: 0.8162 - val_loss: 0.5695 - val_accuracy: 0.7389\n",
            "Epoch 4/10\n",
            "193/193 [==============================] - 3s 17ms/step - loss: 0.3520 - accuracy: 0.8489 - val_loss: 0.6080 - val_accuracy: 0.7325\n",
            "Epoch 5/10\n",
            "193/193 [==============================] - 4s 21ms/step - loss: 0.2904 - accuracy: 0.8820 - val_loss: 0.6779 - val_accuracy: 0.7163\n",
            "Epoch 6/10\n",
            "193/193 [==============================] - 5s 25ms/step - loss: 0.2344 - accuracy: 0.9125 - val_loss: 0.7654 - val_accuracy: 0.7087\n",
            "Epoch 7/10\n",
            "193/193 [==============================] - 3s 16ms/step - loss: 0.1856 - accuracy: 0.9341 - val_loss: 0.8394 - val_accuracy: 0.7077\n",
            "Epoch 8/10\n",
            "193/193 [==============================] - 3s 17ms/step - loss: 0.1471 - accuracy: 0.9506 - val_loss: 0.9485 - val_accuracy: 0.6969\n",
            "Epoch 9/10\n",
            "193/193 [==============================] - 4s 22ms/step - loss: 0.1189 - accuracy: 0.9615 - val_loss: 1.0278 - val_accuracy: 0.7012\n",
            "Epoch 10/10\n",
            "193/193 [==============================] - 5s 23ms/step - loss: 0.0942 - accuracy: 0.9718 - val_loss: 1.1216 - val_accuracy: 0.6926\n",
            "Saved model to  gdrive/MyDrive/./CE807/Assignment2/2202100/models/2/100/model.sav\n",
            "Saved Vectorizer to  gdrive/MyDrive/./CE807/Assignment2/2202100/models/2/100/vectorizer.sav\n",
            "385/385 [==============================] - 1s 3ms/step\n",
            "29/29 [==============================] - 0s 3ms/step\n",
            "Unique predicted labels for train set: [0. 1.]\n",
            "Unique predicted labels for validation set: [0. 1.]\n",
            "Computing different performance metrics on train set of Dataset\n",
            "F1 Score(macro):  0.984305212464887\n",
            "Accuracy:  0.9861122390968895\n",
            "Confusion Matrix:\n",
            "[[8160   61]\n",
            " [ 110 3982]]\n",
            "Computing different performance metrics on valid set of Dataset\n",
            "F1 Score(macro):  0.6427929200811776\n",
            "Accuracy:  0.6925566343042071\n",
            "Confusion Matrix:\n",
            "[[494 125]\n",
            " [160 148]]\n"
          ]
        }
      ]
    },
    {
      "cell_type": "code",
      "source": [
        "def test_method2(test_file, model_file, vectorizer_file, output_dir):\n",
        "  test_data = pd.read_csv(test_file)\n",
        "\n",
        "  #Get test df label column\n",
        "  test_data['label'] = np.where(test_data['label'] == 'NOT', 0, 1)\n",
        "  test_label=test_data['label']\n",
        "\n",
        "  # Load the model and vectorizer\n",
        "  model, vectorizer = load_model(model_file, vectorizer_file) \n",
        "\n",
        "  # Clean the data\n",
        "  test_values= prepare_dataset(test_data,vectorizer)\n",
        "\n",
        "  # Test prediction label\n",
        "  test_pred_label = np.round(model.predict(test_values))\n",
        "\n",
        "  # Evaluate\n",
        "  test_f1_score = compute_performance(test_label, test_pred_label, split='train')\n",
        "\n",
        "  # Storing the predictions\n",
        "  test_data['out_label']  = test_pred_label # Note how this is saved \n",
        "\n",
        "  out_file = os.path.join(output_dir, 'output_test.csv')\n",
        "\n",
        "  # Converting the label field numeric values back into OFF and NOT\n",
        "  test_data['label'] = np.where(test_data['label'] == 0, 'NOT', 'OFF')\n",
        "  test_data['out_label'] = np.where(test_data['out_label'] == 0, 'NOT', 'OFF')\n",
        "\n",
        "  print('Saving model output to', out_file)\n",
        "  test_data.to_csv(out_file)"
      ],
      "metadata": {
        "id": "5aO-D1tkLKMK"
      },
      "execution_count": 48,
      "outputs": []
    },
    {
      "cell_type": "code",
      "source": [
        "print('Testing using model trained on 25% data')\n",
        "test_method2(test_file, model_25_file, vectorizer_25_file, MODEL_2_25_DIRECTORY)"
      ],
      "metadata": {
        "id": "OOfXg-WwLKIr",
        "colab": {
          "base_uri": "https://localhost:8080/"
        },
        "outputId": "9008deff-6e91-400c-f36f-daee881e0116"
      },
      "execution_count": 49,
      "outputs": [
        {
          "output_type": "stream",
          "name": "stdout",
          "text": [
            "Testing using model trained on 25% data\n",
            "Loaded model from  gdrive/MyDrive/./CE807/Assignment2/2202100/models/2/25/model.sav\n",
            "Loaded Vectorizer from  gdrive/MyDrive/./CE807/Assignment2/2202100/models/2/25/vectorizer.sav\n",
            "27/27 [==============================] - 0s 3ms/step\n",
            "Computing different performance metrics on train set of Dataset\n",
            "F1 Score(macro):  0.6200564457865767\n",
            "Accuracy:  0.7034883720930233\n",
            "Confusion Matrix:\n",
            "[[504 116]\n",
            " [139 101]]\n",
            "Saving model output to gdrive/MyDrive/./CE807/Assignment2/2202100/models/2/25/output_test.csv\n"
          ]
        }
      ]
    },
    {
      "cell_type": "code",
      "source": [
        "print('Testing using model trained on 50% data')\n",
        "test_method2(test_file, model_50_file, vectorizer_25_file, MODEL_2_50_DIRECTORY)"
      ],
      "metadata": {
        "id": "RJKaj1wKLKCb",
        "colab": {
          "base_uri": "https://localhost:8080/"
        },
        "outputId": "24c63d12-067e-46b7-f1d8-b0421acd1209"
      },
      "execution_count": 50,
      "outputs": [
        {
          "output_type": "stream",
          "name": "stdout",
          "text": [
            "Testing using model trained on 50% data\n",
            "Loaded model from  gdrive/MyDrive/./CE807/Assignment2/2202100/models/2/50/model.sav\n",
            "Loaded Vectorizer from  gdrive/MyDrive/./CE807/Assignment2/2202100/models/2/25/vectorizer.sav\n",
            "27/27 [==============================] - 0s 4ms/step\n",
            "Computing different performance metrics on train set of Dataset\n",
            "F1 Score(macro):  0.6491087829387264\n",
            "Accuracy:  0.7151162790697675\n",
            "Confusion Matrix:\n",
            "[[494 126]\n",
            " [119 121]]\n",
            "Saving model output to gdrive/MyDrive/./CE807/Assignment2/2202100/models/2/50/output_test.csv\n"
          ]
        }
      ]
    },
    {
      "cell_type": "code",
      "source": [
        "print('Testing using model trained on 75% data')\n",
        "test_method2(test_file, model_75_file, vectorizer_25_file, MODEL_2_75_DIRECTORY)"
      ],
      "metadata": {
        "id": "g04GrWj3LJyz",
        "colab": {
          "base_uri": "https://localhost:8080/"
        },
        "outputId": "de506121-204f-4b81-8bd8-253b49c0a4e1"
      },
      "execution_count": 51,
      "outputs": [
        {
          "output_type": "stream",
          "name": "stdout",
          "text": [
            "Testing using model trained on 75% data\n",
            "Loaded model from  gdrive/MyDrive/./CE807/Assignment2/2202100/models/2/75/model.sav\n",
            "Loaded Vectorizer from  gdrive/MyDrive/./CE807/Assignment2/2202100/models/2/25/vectorizer.sav\n",
            "27/27 [==============================] - 0s 5ms/step\n",
            "Computing different performance metrics on train set of Dataset\n",
            "F1 Score(macro):  0.6289259591762879\n",
            "Accuracy:  0.7116279069767442\n",
            "Confusion Matrix:\n",
            "[[509 111]\n",
            " [137 103]]\n",
            "Saving model output to gdrive/MyDrive/./CE807/Assignment2/2202100/models/2/75/output_test.csv\n"
          ]
        }
      ]
    },
    {
      "cell_type": "code",
      "source": [
        "print('Testing using model trained on 100% data')\n",
        "test_method2(test_file, model_100_file, vectorizer_100_file, MODEL_2_100_DIRECTORY)"
      ],
      "metadata": {
        "id": "AXcLc2WwYKjs",
        "colab": {
          "base_uri": "https://localhost:8080/"
        },
        "outputId": "f36b5d13-b4be-4dcf-f104-541e8bb9b2c2"
      },
      "execution_count": 52,
      "outputs": [
        {
          "output_type": "stream",
          "name": "stdout",
          "text": [
            "Testing using model trained on 100% data\n",
            "Loaded model from  gdrive/MyDrive/./CE807/Assignment2/2202100/models/2/100/model.sav\n",
            "Loaded Vectorizer from  gdrive/MyDrive/./CE807/Assignment2/2202100/models/2/100/vectorizer.sav\n",
            "27/27 [==============================] - 0s 4ms/step\n",
            "Computing different performance metrics on train set of Dataset\n",
            "F1 Score(macro):  0.6475356335099196\n",
            "Accuracy:  0.7174418604651163\n",
            "Confusion Matrix:\n",
            "[[500 120]\n",
            " [123 117]]\n",
            "Saving model output to gdrive/MyDrive/./CE807/Assignment2/2202100/models/2/100/output_test.csv\n"
          ]
        }
      ]
    }
  ]
}